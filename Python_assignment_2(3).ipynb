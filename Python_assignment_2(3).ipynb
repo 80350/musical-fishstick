{
  "cells": [
    {
      "cell_type": "markdown",
      "metadata": {
        "id": "ei89hEW_Q_4x"
      },
      "source": [
        "## ***TOPIC: String Based Assignment ***\n",
        "### 1. Write a program to reverse a string."
      ]
    },
    {
      "cell_type": "code",
      "execution_count": null,
      "metadata": {
        "colab": {
          "background_save": true
        },
        "id": "xCVihuec9YmT"
      },
      "outputs": [],
      "source": [
        "s = \"muskan\""
      ]
    },
    {
      "cell_type": "code",
      "execution_count": null,
      "metadata": {
        "colab": {
          "base_uri": "https://localhost:8080/",
          "height": 35
        },
        "id": "lSenrlo5Uyve",
        "outputId": "47d35cd7-0a0e-491d-c831-b76879dd88cc"
      },
      "outputs": [
        {
          "data": {
            "application/vnd.google.colaboratory.intrinsic+json": {
              "type": "string"
            },
            "text/plain": [
              "'naksum'"
            ]
          },
          "execution_count": 12,
          "metadata": {},
          "output_type": "execute_result"
        }
      ],
      "source": [
        "s[::-1]"
      ]
    },
    {
      "cell_type": "markdown",
      "metadata": {
        "id": "Qv6qDbhKeMWk"
      },
      "source": [
        "### 2. Check if a string is a palindrome."
      ]
    },
    {
      "cell_type": "code",
      "execution_count": null,
      "metadata": {
        "colab": {
          "base_uri": "https://localhost:8080/",
          "height": 35
        },
        "id": "xhSEPM2GnNjp",
        "outputId": "49043234-290a-41f0-902e-05ae51d6cfc7"
      },
      "outputs": [
        {
          "data": {
            "application/vnd.google.colaboratory.intrinsic+json": {
              "type": "string"
            },
            "text/plain": [
              "'malaylam'"
            ]
          },
          "execution_count": 1,
          "metadata": {},
          "output_type": "execute_result"
        }
      ],
      "source": [
        "s = \"malyalam\"\n",
        "\n",
        "s[::-1]\n",
        "\n"
      ]
    },
    {
      "cell_type": "markdown",
      "metadata": {
        "id": "bvchYp04zs01"
      },
      "source": [
        "### 3. Convert a string to uppercase."
      ]
    },
    {
      "cell_type": "code",
      "execution_count": null,
      "metadata": {
        "id": "BxMH7jCXz6vm"
      },
      "outputs": [],
      "source": [
        "s = \"pwskill\""
      ]
    },
    {
      "cell_type": "code",
      "execution_count": null,
      "metadata": {
        "colab": {
          "base_uri": "https://localhost:8080/",
          "height": 35
        },
        "id": "nF9HZ-0O0EG8",
        "outputId": "4ff79c69-6dda-444b-ead8-6f5296424d74"
      },
      "outputs": [
        {
          "data": {
            "application/vnd.google.colaboratory.intrinsic+json": {
              "type": "string"
            },
            "text/plain": [
              "'PWSKILL'"
            ]
          },
          "execution_count": 17,
          "metadata": {},
          "output_type": "execute_result"
        }
      ],
      "source": [
        "s.upper()"
      ]
    },
    {
      "cell_type": "markdown",
      "metadata": {
        "id": "hwwyqMhl0bZu"
      },
      "source": [
        "### 4. Convert a string to lowercase."
      ]
    },
    {
      "cell_type": "code",
      "execution_count": null,
      "metadata": {
        "id": "dBKqjcVu0PCJ"
      },
      "outputs": [],
      "source": [
        "s = \"PWSKILL\""
      ]
    },
    {
      "cell_type": "code",
      "execution_count": null,
      "metadata": {
        "colab": {
          "base_uri": "https://localhost:8080/",
          "height": 35
        },
        "id": "3moGbuLQ0nkP",
        "outputId": "aba0a522-a3fa-4fb8-b784-71eb8be945cd"
      },
      "outputs": [
        {
          "data": {
            "application/vnd.google.colaboratory.intrinsic+json": {
              "type": "string"
            },
            "text/plain": [
              "'pwskill'"
            ]
          },
          "execution_count": 19,
          "metadata": {},
          "output_type": "execute_result"
        }
      ],
      "source": [
        "s.lower()"
      ]
    },
    {
      "cell_type": "markdown",
      "metadata": {
        "id": "5EZJPpk_0yMK"
      },
      "source": [
        "### 5. Count the number of vowels in a string."
      ]
    },
    {
      "cell_type": "code",
      "execution_count": null,
      "metadata": {
        "colab": {
          "base_uri": "https://localhost:8080/"
        },
        "id": "ZfzxLxJmguoo",
        "outputId": "f0f8495a-3546-42b2-bfb4-e7b6eaae3bd2"
      },
      "outputs": [
        {
          "name": "stdout",
          "output_type": "stream",
          "text": [
            "Number of vowels: 7\n"
          ]
        }
      ],
      "source": [
        "def count_vowels(string):\n",
        "    # Initialize a variable to keep track of the vowel count\n",
        "    vowel_count = 0\n",
        "\n",
        "    # Convert the input string to lowercase to handle both upper and lowercase vowels\n",
        "    string = string.lower()\n",
        "\n",
        "    # Define a set of vowels\n",
        "    vowels = set(\"aeiou\")\n",
        "\n",
        "    # Iterate through each character in the string\n",
        "    for char in string:\n",
        "        # Check if the character is a vowel\n",
        "        if char in vowels:\n",
        "            # Increment the vowel count if the character is a vowel\n",
        "            vowel_count += 1\n",
        "\n",
        "    # Return the final vowel count\n",
        "    return vowel_count\n",
        "\n",
        "# Test the function\n",
        "input_string = \"Hello, how are you?\"\n",
        "result = count_vowels(input_string)\n",
        "print(\"Number of vowels:\", result)"
      ]
    },
    {
      "cell_type": "markdown",
      "metadata": {
        "id": "hwYT4zAh4j7i"
      },
      "source": [
        "## 6. Count the number of consonants in a string."
      ]
    },
    {
      "cell_type": "code",
      "execution_count": null,
      "metadata": {
        "colab": {
          "base_uri": "https://localhost:8080/"
        },
        "id": "D18NMx_Eguni",
        "outputId": "9a85315a-c20f-4861-875b-4b1883ee4611"
      },
      "outputs": [
        {
          "name": "stdout",
          "output_type": "stream",
          "text": [
            "Enter a string: pwskill\n",
            "Number of consonants: 6\n"
          ]
        }
      ],
      "source": [
        "def count_consonants(string):\n",
        "    # Initialize a variable to keep track of the count of consonants\n",
        "    consonant_count = 0\n",
        "\n",
        "    # Define a set of consonant characters\n",
        "    consonants = \"bcdfghjklmnpqrstvwxyzBCDFGHJKLMNPQRSTVWXYZ\"\n",
        "\n",
        "    # Iterate through each character in the input string\n",
        "    for char in string:\n",
        "        # Check if the character is in the set of consonants\n",
        "        if char in consonants:\n",
        "            # Increment the consonant count\n",
        "            consonant_count += 1\n",
        "\n",
        "    # Return the final count of consonants\n",
        "    return consonant_count\n",
        "\n",
        "# Input string\n",
        "input_string = input(\"Enter a string: \")\n",
        "\n",
        "# Call the function and print the result\n",
        "result = count_consonants(input_string)\n",
        "print(\"Number of consonants:\", result)"
      ]
    },
    {
      "cell_type": "markdown",
      "metadata": {
        "id": "GlIvc6826sbF"
      },
      "source": [
        "## 7. Remove all whitespaces from a string."
      ]
    },
    {
      "cell_type": "code",
      "execution_count": null,
      "metadata": {
        "colab": {
          "base_uri": "https://localhost:8080/"
        },
        "id": "DhdXUxEfgufk",
        "outputId": "1f925a8f-7045-4bd7-98fa-18978131affa"
      },
      "outputs": [
        {
          "name": "stdout",
          "output_type": "stream",
          "text": [
            "HelloWorld!How'sitgoing?\n"
          ]
        }
      ],
      "source": [
        "def remove_whitespace(input_string):\n",
        "    # Step 1: Initialize an empty string to store the result.\n",
        "    result = \"\"\n",
        "\n",
        "    # Step 2: Iterate through each character in the input string.\n",
        "    for char in input_string:\n",
        "        # Step 3: Check if the character is a whitespace.\n",
        "        if char != \" \":\n",
        "            # Step 4: If the character is not a whitespace, append it to the result string.\n",
        "            result += char\n",
        "\n",
        "    # Step 5: Return the result string with all whitespaces removed.\n",
        "    return result\n",
        "\n",
        "# Example usage\n",
        "input_string = \"Hello   World!  How's   it   going?\"\n",
        "output_string = remove_whitespace(input_string)\n",
        "print(output_string)"
      ]
    },
    {
      "cell_type": "markdown",
      "metadata": {
        "id": "IqzvIpPKqYAg"
      },
      "source": [
        "### 8. Find the length of a string without using the `len()` function."
      ]
    },
    {
      "cell_type": "code",
      "execution_count": null,
      "metadata": {
        "colab": {
          "base_uri": "https://localhost:8080/"
        },
        "id": "xeqjaSnkqIhX",
        "outputId": "433e26b7-9514-46d7-f267-9f30a94fca3b"
      },
      "outputs": [
        {
          "name": "stdout",
          "output_type": "stream",
          "text": [
            "the length of the string is: 1\n",
            "the length of the string is: 2\n",
            "the length of the string is: 3\n",
            "the length of the string is: 4\n",
            "the length of the string is: 5\n",
            "the length of the string is: 6\n"
          ]
        }
      ],
      "source": [
        "s = \"muskan\"\n",
        "\n",
        "count = 0\n",
        "\n",
        "for char in 'muskan':\n",
        "\n",
        "  count += 1\n",
        "\n",
        "  print(\"the length of the string is:\",count)\n",
        "\n",
        "\n",
        "\n",
        "\n",
        "\n"
      ]
    },
    {
      "cell_type": "markdown",
      "metadata": {
        "id": "JAgnJgLPmhqT"
      },
      "source": [
        "## 9. Check if a string contains a specific word."
      ]
    },
    {
      "cell_type": "code",
      "execution_count": null,
      "metadata": {
        "colab": {
          "base_uri": "https://localhost:8080/"
        },
        "id": "4F2a-BQZgubj",
        "outputId": "23bf1b74-4502-409f-9e8b-678da327a0d8"
      },
      "outputs": [
        {
          "name": "stdout",
          "output_type": "stream",
          "text": [
            "Enter a string: my name is muskan sharma\n",
            "Enter the specific word to check for: anurag\n",
            "The string does not contain the word 'anurag'.\n"
          ]
        }
      ],
      "source": [
        "# Step 1: Input the string and the specific word\n",
        "input_string = input(\"Enter a string: \")\n",
        "specific_word = input(\"Enter the specific word to check for: \")\n",
        "\n",
        "# Step 2: Check the specific word\n",
        "if specific_word in input_string:\n",
        "\n",
        "    print(f\"The string contains the word '{specific_word}'.\")\n",
        "else:\n",
        "    print(f\"The string does not contain the word '{specific_word}'.\")"
      ]
    },
    {
      "cell_type": "markdown",
      "metadata": {
        "id": "PrqUw9Qsnvbk"
      },
      "source": [
        "## 10. Replace a word in a string with another word."
      ]
    },
    {
      "cell_type": "code",
      "execution_count": null,
      "metadata": {
        "colab": {
          "base_uri": "https://localhost:8080/"
        },
        "id": "VDPL4fa8guYG",
        "outputId": "fb4e1627-36b2-4c56-8d33-f172d51e2370"
      },
      "outputs": [
        {
          "name": "stdout",
          "output_type": "stream",
          "text": [
            "Enter a sentence: hello muskan\n",
            "Enter the word to be replaced: muskan\n",
            "Enter the new word: students\n",
            "Modified string: hello students\n"
          ]
        }
      ],
      "source": [
        "# Step 1: take  the input string\n",
        "input_string = input(\"Enter a sentence: \")\n",
        "\n",
        "# Step 2: take a input of old word and new word\n",
        "old_word = input(\"Enter the word to be replaced: \")\n",
        "new_word = input(\"Enter the new word: \")\n",
        "\n",
        "# Step 3: replace a word with another word\n",
        "modified_string = input_string.replace(old_word, new_word)\n",
        "\n",
        "# Step 4: Print the modified string\n",
        "print(\"Modified string:\", modified_string)"
      ]
    },
    {
      "cell_type": "markdown",
      "metadata": {
        "id": "2ymGkFP7pzJ9"
      },
      "source": [
        "## 11. Count the occurrences of a word in a string."
      ]
    },
    {
      "cell_type": "markdown",
      "metadata": {
        "id": "wahqz2n_pyJ6"
      },
      "source": []
    },
    {
      "cell_type": "code",
      "execution_count": null,
      "metadata": {
        "id": "e93Q3jbqpqA3"
      },
      "outputs": [],
      "source": [
        "s = 'my name is muskan'"
      ]
    },
    {
      "cell_type": "code",
      "execution_count": null,
      "metadata": {
        "colab": {
          "base_uri": "https://localhost:8080/"
        },
        "id": "8czSj_12rW7X",
        "outputId": "58089dfd-2a05-4d5d-82cf-d505c80a9432"
      },
      "outputs": [
        {
          "data": {
            "text/plain": [
              "1"
            ]
          },
          "execution_count": 4,
          "metadata": {},
          "output_type": "execute_result"
        }
      ],
      "source": [
        "s.count('is')"
      ]
    },
    {
      "cell_type": "markdown",
      "metadata": {
        "id": "eK-PPPJwsDc8"
      },
      "source": [
        "## 12. Find the first occurrence of a word in a string."
      ]
    },
    {
      "cell_type": "code",
      "execution_count": null,
      "metadata": {
        "id": "gMqwpk8Yr766"
      },
      "outputs": [],
      "source": [
        "s = 'muskan'"
      ]
    },
    {
      "cell_type": "code",
      "execution_count": null,
      "metadata": {
        "colab": {
          "base_uri": "https://localhost:8080/"
        },
        "id": "sQiMYak-sQ0E",
        "outputId": "a1ac9e7e-6a0c-433b-9a7b-04da529b9165"
      },
      "outputs": [
        {
          "data": {
            "text/plain": [
              "0"
            ]
          },
          "execution_count": 13,
          "metadata": {},
          "output_type": "execute_result"
        }
      ],
      "source": [
        "s.find('m')"
      ]
    },
    {
      "cell_type": "markdown",
      "metadata": {
        "id": "hEP8bEspuCpH"
      },
      "source": [
        "## 13. Find the last occurrence of a word in a string."
      ]
    },
    {
      "cell_type": "code",
      "execution_count": null,
      "metadata": {
        "id": "QI9Nw-mnt7Vn"
      },
      "outputs": [],
      "source": [
        "s = 'hello welcome to my world'"
      ]
    },
    {
      "cell_type": "code",
      "execution_count": null,
      "metadata": {
        "colab": {
          "base_uri": "https://localhost:8080/"
        },
        "id": "AVugzpyRuURQ",
        "outputId": "bce8e9b7-3819-47f5-d897-14ed4a09ad93"
      },
      "outputs": [
        {
          "data": {
            "text/plain": [
              "12"
            ]
          },
          "execution_count": 16,
          "metadata": {},
          "output_type": "execute_result"
        }
      ],
      "source": [
        "s.rfind('e')"
      ]
    },
    {
      "cell_type": "markdown",
      "metadata": {
        "id": "iG-O67gzvCVq"
      },
      "source": [
        "## 14. Split a string into a list of words."
      ]
    },
    {
      "cell_type": "code",
      "execution_count": null,
      "metadata": {
        "id": "V2KhyY34vGHT"
      },
      "outputs": [],
      "source": [
        "s = '[hello my world]'"
      ]
    },
    {
      "cell_type": "code",
      "execution_count": null,
      "metadata": {
        "colab": {
          "base_uri": "https://localhost:8080/"
        },
        "id": "SPkZKrIpvUFv",
        "outputId": "440ebd09-22fc-4616-c1f3-a1866f7faa01"
      },
      "outputs": [
        {
          "data": {
            "text/plain": [
              "str"
            ]
          },
          "execution_count": 21,
          "metadata": {},
          "output_type": "execute_result"
        }
      ],
      "source": [
        "type(s)"
      ]
    },
    {
      "cell_type": "code",
      "execution_count": null,
      "metadata": {
        "colab": {
          "base_uri": "https://localhost:8080/"
        },
        "id": "hQJfBRKivfxG",
        "outputId": "fc2080ae-53d5-4a4e-d469-bc21ffa8b385"
      },
      "outputs": [
        {
          "data": {
            "text/plain": [
              "['[hello', 'my', 'world]']"
            ]
          },
          "execution_count": 22,
          "metadata": {},
          "output_type": "execute_result"
        }
      ],
      "source": [
        "s.split()"
      ]
    },
    {
      "cell_type": "markdown",
      "metadata": {
        "id": "YSqbQT-evs05"
      },
      "source": [
        "## 15. Join a list of words into a string."
      ]
    },
    {
      "cell_type": "code",
      "execution_count": null,
      "metadata": {
        "id": "uWbzul5xvngW"
      },
      "outputs": [],
      "source": [
        "l = ['hello', 'word', 'good', 'morning']"
      ]
    },
    {
      "cell_type": "code",
      "execution_count": null,
      "metadata": {
        "colab": {
          "base_uri": "https://localhost:8080/",
          "height": 35
        },
        "id": "oRmV3oZJwbMi",
        "outputId": "0243e3b1-ddb8-4c01-b809-264717adcdb4"
      },
      "outputs": [
        {
          "data": {
            "application/vnd.google.colaboratory.intrinsic+json": {
              "type": "string"
            },
            "text/plain": [
              "'hello word good morning'"
            ]
          },
          "execution_count": 30,
          "metadata": {},
          "output_type": "execute_result"
        }
      ],
      "source": [
        "\" \".join(l)"
      ]
    },
    {
      "cell_type": "markdown",
      "metadata": {
        "id": "MdBSt8NhxTq8"
      },
      "source": [
        "## 16. Convert a string where words are separated by spaces to one where words\n",
        "are separated by underscores."
      ]
    },
    {
      "cell_type": "code",
      "execution_count": null,
      "metadata": {
        "colab": {
          "base_uri": "https://localhost:8080/"
        },
        "id": "yJ979spNguId",
        "outputId": "cc46940d-0766-4da9-881f-15e2bc440eb0"
      },
      "outputs": [
        {
          "name": "stdout",
          "output_type": "stream",
          "text": [
            "Converted text: hello_world_good_morning.\n"
          ]
        }
      ],
      "source": [
        "def convert_to_underscore_separated(text):\n",
        "    # Step 1: Use the replace() method to replace spaces with underscores.\n",
        "    underscore_separated = text.replace(\" \", \"_\")\n",
        "\n",
        "    # Step 2: Return the converted string.\n",
        "    return underscore_separated\n",
        "\n",
        "# Example usage\n",
        "text = \"hello world good morning.\"\n",
        "converted_text = convert_to_underscore_separated(text)\n",
        "print(\"Converted text:\", converted_text)"
      ]
    },
    {
      "cell_type": "markdown",
      "metadata": {
        "id": "IksLTy4ByrK2"
      },
      "source": [
        "## 17. Check if a string starts with a specific word or phrase."
      ]
    },
    {
      "cell_type": "code",
      "execution_count": null,
      "metadata": {
        "id": "xpxrnkq5yqsM"
      },
      "outputs": [],
      "source": [
        "s = 'muskan sharma'"
      ]
    },
    {
      "cell_type": "code",
      "execution_count": null,
      "metadata": {
        "colab": {
          "base_uri": "https://localhost:8080/"
        },
        "id": "O7rjDfSJzRC-",
        "outputId": "93062a93-b4e4-42e6-bf58-34c10da23b27"
      },
      "outputs": [
        {
          "data": {
            "text/plain": [
              "True"
            ]
          },
          "execution_count": 36,
          "metadata": {},
          "output_type": "execute_result"
        }
      ],
      "source": [
        "s.startswith('muskan')"
      ]
    },
    {
      "cell_type": "markdown",
      "metadata": {
        "id": "VoyFqD__zpM4"
      },
      "source": [
        "## 18. Check if a string ends with a specific word or phrase."
      ]
    },
    {
      "cell_type": "code",
      "execution_count": null,
      "metadata": {
        "id": "DWOsMlBmzyMV"
      },
      "outputs": [],
      "source": [
        "s = 'my name is muskan'"
      ]
    },
    {
      "cell_type": "code",
      "execution_count": null,
      "metadata": {
        "colab": {
          "base_uri": "https://localhost:8080/"
        },
        "id": "1JOQscn3z4lE",
        "outputId": "c6cabb2a-8a12-4fe9-e78f-6090106d7fa1"
      },
      "outputs": [
        {
          "data": {
            "text/plain": [
              "True"
            ]
          },
          "execution_count": 38,
          "metadata": {},
          "output_type": "execute_result"
        }
      ],
      "source": [
        "s.endswith('muskan')"
      ]
    },
    {
      "cell_type": "markdown",
      "metadata": {
        "id": "yK0RiLouz-c3"
      },
      "source": [
        "## 19. Convert a string to title case (e.g., \"hello world\" to \"Hello World\")."
      ]
    },
    {
      "cell_type": "code",
      "execution_count": null,
      "metadata": {
        "id": "FPuHBruu0H9v"
      },
      "outputs": [],
      "source": [
        "s = 'hello world'"
      ]
    },
    {
      "cell_type": "code",
      "execution_count": null,
      "metadata": {
        "colab": {
          "base_uri": "https://localhost:8080/",
          "height": 35
        },
        "id": "rGjytxmU0OMF",
        "outputId": "e4641af3-181b-4f08-c56d-e81f52f2ee91"
      },
      "outputs": [
        {
          "data": {
            "application/vnd.google.colaboratory.intrinsic+json": {
              "type": "string"
            },
            "text/plain": [
              "'Hello World'"
            ]
          },
          "execution_count": 40,
          "metadata": {},
          "output_type": "execute_result"
        }
      ],
      "source": [
        "s.title()"
      ]
    },
    {
      "cell_type": "markdown",
      "metadata": {
        "id": "oMIjHpPq0TwA"
      },
      "source": [
        "## 20. Find the longest word in a string."
      ]
    },
    {
      "cell_type": "code",
      "execution_count": null,
      "metadata": {
        "colab": {
          "base_uri": "https://localhost:8080/"
        },
        "id": "lTJNquz81cuS",
        "outputId": "8728edb5-735d-4347-be9e-ebdb0e3f1415"
      },
      "outputs": [
        {
          "name": "stdout",
          "output_type": "stream",
          "text": [
            "enter sentence:  my name is muskan\n",
            "longest word is:  muskan\n",
            "and its length is :  6\n"
          ]
        }
      ],
      "source": [
        "s = input('enter sentence:  ')\n",
        "\n",
        "longest = max(s.split() , key = len)\n",
        "\n",
        "print('longest word is: ' , longest)\n",
        "print('and its length is : ' , len(longest))\n",
        "\n"
      ]
    },
    {
      "cell_type": "markdown",
      "metadata": {
        "id": "bD0daSkj2loj"
      },
      "source": [
        "## 21. Find the shortest word in a string."
      ]
    },
    {
      "cell_type": "code",
      "execution_count": null,
      "metadata": {
        "colab": {
          "base_uri": "https://localhost:8080/"
        },
        "id": "nezBC2ro2zL0",
        "outputId": "e692d11a-66b1-49af-dcef-0d4a8166701c"
      },
      "outputs": [
        {
          "name": "stdout",
          "output_type": "stream",
          "text": [
            "enter sentence:  hello world good morning\n",
            "shortest word is:  good\n",
            "and its length is :  4\n"
          ]
        }
      ],
      "source": [
        "s = input('enter sentence:  ')\n",
        "\n",
        "shortest = min(s.split() , key = len)\n",
        "\n",
        "print('shortest word is: ' , shortest)\n",
        "print('and its length is : ' , len(shortest))\n",
        "\n"
      ]
    },
    {
      "cell_type": "markdown",
      "metadata": {
        "id": "uDI5BBqR3SCn"
      },
      "source": [
        "## 22. Reverse the order of words in a string."
      ]
    },
    {
      "cell_type": "code",
      "execution_count": null,
      "metadata": {
        "colab": {
          "background_save": true,
          "base_uri": "https://localhost:8080/"
        },
        "id": "DTG8S1LPdqA9",
        "outputId": "b5e46086-a08d-48e4-fd99-181aa4e39116"
      },
      "outputs": [
        {
          "name": "stdout",
          "output_type": "stream",
          "text": [
            "sharma muskan is name my\n"
          ]
        }
      ],
      "source": [
        "\n",
        "\n",
        "\n",
        "# input string\n",
        "string = \"my name is muskan sharma\"\n",
        "# reversing words in a given string\n",
        "s = string.split()[::-1]\n",
        "l = []\n",
        "for i in s:\n",
        "    # appending reversed words to l\n",
        "    l.append(i)\n",
        "# printing reverse words\n",
        "print(\" \".join(l))\n"
      ]
    },
    {
      "cell_type": "markdown",
      "metadata": {
        "id": "AzjiOb3ye4Gx"
      },
      "source": [
        "## 23. Check if a string is alphanumeric."
      ]
    },
    {
      "cell_type": "code",
      "execution_count": null,
      "metadata": {
        "colab": {
          "background_save": true
        },
        "id": "-USxy9BbfLha"
      },
      "outputs": [],
      "source": [
        "s = 'muskan'"
      ]
    },
    {
      "cell_type": "code",
      "execution_count": null,
      "metadata": {
        "colab": {
          "background_save": true,
          "base_uri": "https://localhost:8080/"
        },
        "id": "6jUw1KWYf_2I",
        "outputId": "84f11598-d2de-43b0-8307-fb41161612b8"
      },
      "outputs": [
        {
          "data": {
            "text/plain": [
              "True"
            ]
          },
          "execution_count": 66,
          "metadata": {},
          "output_type": "execute_result"
        }
      ],
      "source": [
        "s.isalnum()"
      ]
    },
    {
      "cell_type": "markdown",
      "metadata": {
        "id": "Y22lq5AQmgR5"
      },
      "source": [
        "## 24. Extract all digits from a string."
      ]
    },
    {
      "cell_type": "code",
      "execution_count": null,
      "metadata": {
        "colab": {
          "background_save": true,
          "base_uri": "https://localhost:8080/"
        },
        "id": "bp_zna58pJk_",
        "outputId": "ab19d1e6-2892-4fb2-9f17-78174fe85ce4"
      },
      "outputs": [
        {
          "name": "stdout",
          "output_type": "stream",
          "text": [
            "The original string : There are 2 apples for 4 persons\n",
            "The numbers list is :[2, 4]\n"
          ]
        }
      ],
      "source": [
        "\n",
        "test_string = \"There are 2 apples for 4 persons\"\n",
        "\n",
        "# printing original string\n",
        "print(\"The original string : \" + test_string)\n",
        "\n",
        "# using List comprehension + isdigit() +split()\n",
        "# getting numbers from string\n",
        "res = [int(i) for i in test_string.split() if i.isdigit()]\n",
        "\n",
        "# print result\n",
        "print(\"The numbers list is :\" + str(res))\n"
      ]
    },
    {
      "cell_type": "markdown",
      "metadata": {
        "id": "3G0PEdhSpfMk"
      },
      "source": [
        "## 25. Extract all alphabets from a string."
      ]
    },
    {
      "cell_type": "code",
      "execution_count": null,
      "metadata": {
        "colab": {
          "background_save": true,
          "base_uri": "https://localhost:8080/"
        },
        "id": "u0omXr_y5R27",
        "outputId": "5fa2a96f-ee04-406c-843e-c3590f6d2919"
      },
      "outputs": [
        {
          "name": "stdout",
          "output_type": "stream",
          "text": [
            "initial string :   123()#ASFGGasdd\n",
            "first result:     A S F G G a s d d\n"
          ]
        }
      ],
      "source": [
        "ini_string = \"123()#ASFGGasdd\"\n",
        "\n",
        "print(\"initial string :  \", ini_string)\n",
        "\n",
        "res1 = \" \"\n",
        "\n",
        "for i in ini_string:\n",
        "\n",
        "   if i.isalpha():\n",
        "\n",
        "    res1 = \" \".join([res1, i])\n",
        "\n",
        "print(\"first result:  \", str(res1))"
      ]
    },
    {
      "cell_type": "markdown",
      "metadata": {
        "id": "UhVck9dT9mlU"
      },
      "source": [
        "## 26 & 27. Count the number of uppercase and lowercase letters in a string."
      ]
    },
    {
      "cell_type": "code",
      "execution_count": null,
      "metadata": {
        "colab": {
          "background_save": true,
          "base_uri": "https://localhost:8080/"
        },
        "id": "KuIkqkkp9l3-",
        "outputId": "a1ebffec-bbbe-4eec-f584-7150780c09f8"
      },
      "outputs": [
        {
          "name": "stdout",
          "output_type": "stream",
          "text": [
            "the numbers of lower case characters is: 6\n",
            "the numbers of upper case characters is: 1\n"
          ]
        }
      ],
      "source": [
        "s = 'Pwskill'\n",
        "\n",
        "lower = 0\n",
        "\n",
        "upper = 0\n",
        "\n",
        "for i in s:\n",
        "      if(i.islower()):\n",
        "\n",
        "           lower +=1\n",
        "      else:\n",
        "\n",
        "          upper +=1\n",
        "\n",
        "print('the numbers of lower case characters is:', lower)\n",
        "\n",
        "print('the numbers of upper case characters is:', upper)\n",
        "\n",
        "\n",
        "\n"
      ]
    },
    {
      "cell_type": "markdown",
      "metadata": {
        "id": "TC-N7kMOAVqR"
      },
      "source": [
        "## 28. Swap the case of each character in a string."
      ]
    },
    {
      "cell_type": "code",
      "execution_count": null,
      "metadata": {
        "colab": {
          "background_save": true
        },
        "id": "t7lPQwneAP_B"
      },
      "outputs": [],
      "source": [
        "s = 'pwskill'"
      ]
    },
    {
      "cell_type": "code",
      "execution_count": null,
      "metadata": {
        "colab": {
          "background_save": true,
          "base_uri": "https://localhost:8080/",
          "height": 35
        },
        "id": "VX2dWrhQAiAX",
        "outputId": "54b2ce31-e396-4b37-b5cd-f5810c89009e"
      },
      "outputs": [
        {
          "data": {
            "application/vnd.google.colaboratory.intrinsic+json": {
              "type": "string"
            },
            "text/plain": [
              "'PWSKILL'"
            ]
          },
          "execution_count": 71,
          "metadata": {},
          "output_type": "execute_result"
        }
      ],
      "source": [
        "s.swapcase()"
      ]
    },
    {
      "cell_type": "markdown",
      "metadata": {
        "id": "A-oKkshHAzE2"
      },
      "source": [
        "## 29. Remove a specific word from a string."
      ]
    },
    {
      "cell_type": "code",
      "execution_count": null,
      "metadata": {
        "colab": {
          "background_save": true
        },
        "id": "1LEakVPdA7PG"
      },
      "outputs": [],
      "source": [
        "s = ' my name is muskan gupta sharma'"
      ]
    },
    {
      "cell_type": "code",
      "execution_count": null,
      "metadata": {
        "colab": {
          "background_save": true,
          "base_uri": "https://localhost:8080/",
          "height": 35
        },
        "id": "PF9KaBNCBDEy",
        "outputId": "085cc857-dec5-48d7-9ccb-f0ea50ff7582"
      },
      "outputs": [
        {
          "data": {
            "application/vnd.google.colaboratory.intrinsic+json": {
              "type": "string"
            },
            "text/plain": [
              "' my name is muskan  sharma'"
            ]
          },
          "execution_count": 73,
          "metadata": {},
          "output_type": "execute_result"
        }
      ],
      "source": [
        "s.replace('gupta',  \"\")               #using str.replace() method"
      ]
    },
    {
      "cell_type": "markdown",
      "metadata": {
        "id": "R-MqhDjWCG46"
      },
      "source": [
        "## 30. Check if a string is a valid email address."
      ]
    },
    {
      "cell_type": "code",
      "execution_count": null,
      "metadata": {
        "colab": {
          "background_save": true,
          "base_uri": "https://localhost:8080/"
        },
        "id": "XSQ_Xaelgtc7",
        "outputId": "ca778db5-e4d4-4190-b26d-7c6e60a80c3d"
      },
      "outputs": [
        {
          "name": "stdout",
          "output_type": "stream",
          "text": [
            "True\n",
            "False\n"
          ]
        }
      ],
      "source": [
        "import re  # Import the regular expression module\n",
        "\n",
        "def is_valid_email(email):\n",
        "    pattern = r'^[\\w\\.-]+@[\\w\\.-]+\\.\\w+$'  # Regular expression pattern for a basic email validation\n",
        "    if re.match(pattern, email):\n",
        "        return True\n",
        "    else:\n",
        "        return False\n",
        "\n",
        "# Example email addresses\n",
        "email1 = \"example@email.com\"\n",
        "email2 = \"invalid-email\"\n",
        "result1 = is_valid_email(email1)\n",
        "result2 = is_valid_email(email2)\n",
        "print(result1)\n",
        "print(result2)"
      ]
    },
    {
      "cell_type": "markdown",
      "metadata": {
        "id": "AKG95cjwkUtZ"
      },
      "source": [
        "## 31. Extract the username from an email address string."
      ]
    },
    {
      "cell_type": "code",
      "execution_count": null,
      "metadata": {
        "colab": {
          "background_save": true,
          "base_uri": "https://localhost:8080/",
          "height": 35
        },
        "id": "fXtpORPgn1Sv",
        "outputId": "a1616f59-cbe2-4d1c-b63f-837d4b055e55"
      },
      "outputs": [
        {
          "data": {
            "application/vnd.google.colaboratory.intrinsic+json": {
              "type": "string"
            },
            "text/plain": [
              "'muskan'"
            ]
          },
          "execution_count": 75,
          "metadata": {},
          "output_type": "execute_result"
        }
      ],
      "source": [
        "email = 'muskan@gmail.com'\n",
        "\n",
        "email.split('@')[0]              #extract username by string.split() method."
      ]
    },
    {
      "cell_type": "markdown",
      "metadata": {
        "id": "VO7VyxpbpIyK"
      },
      "source": [
        "## 32. Extract the domain name from an email address string."
      ]
    },
    {
      "cell_type": "code",
      "execution_count": null,
      "metadata": {
        "colab": {
          "background_save": true,
          "base_uri": "https://localhost:8080/",
          "height": 35
        },
        "id": "ZibBj4QQpQEt",
        "outputId": "761f93f6-26a3-4891-cacd-e2f3b4c31150"
      },
      "outputs": [
        {
          "data": {
            "application/vnd.google.colaboratory.intrinsic+json": {
              "type": "string"
            },
            "text/plain": [
              "'gmail.com'"
            ]
          },
          "execution_count": 76,
          "metadata": {},
          "output_type": "execute_result"
        }
      ],
      "source": [
        "enail = 'muskan@gmail.com'\n",
        "\n",
        "email.split('@')[1]"
      ]
    },
    {
      "cell_type": "markdown",
      "metadata": {
        "id": "dAvdYtfItrm0"
      },
      "source": [
        "## 33. Replace multiple spaces in a string with a single space."
      ]
    },
    {
      "cell_type": "code",
      "execution_count": null,
      "metadata": {
        "colab": {
          "background_save": true,
          "base_uri": "https://localhost:8080/"
        },
        "id": "1BViL0cIt1fA",
        "outputId": "c85e7e2c-2c49-43fa-f0a1-55f4b010475a"
      },
      "outputs": [
        {
          "name": "stdout",
          "output_type": "stream",
          "text": [
            "this is a data science course\n"
          ]
        }
      ],
      "source": [
        "# using the join() and split() method\n",
        "\n",
        "s = 'this  is a   data science  course'\n",
        "\n",
        "words = s.split()\n",
        "\n",
        "s = \" \".join(words)\n",
        "\n",
        "print(s)"
      ]
    },
    {
      "cell_type": "markdown",
      "metadata": {
        "id": "rTSQWePHvJkY"
      },
      "source": [
        "## 34. Check if a string is a valid URL."
      ]
    },
    {
      "cell_type": "code",
      "execution_count": null,
      "metadata": {
        "colab": {
          "background_save": true,
          "base_uri": "https://localhost:8080/"
        },
        "id": "BsxABArkgtX7",
        "outputId": "bb48db96-c809-46d3-bf97-8eacb9795c66"
      },
      "outputs": [
        {
          "name": "stdout",
          "output_type": "stream",
          "text": [
            "True\n",
            "False\n"
          ]
        }
      ],
      "source": [
        "from urllib.parse import urlparse\n",
        "\n",
        "def is_valid_url(url):\n",
        "    try:\n",
        "        result = urlparse(url)\n",
        "        return all([result.scheme, result.netloc])  # Check if both scheme and netloc are present\n",
        "    except ValueError:\n",
        "        return False\n",
        "\n",
        "# Example URLs\n",
        "url1 = \"https://www.example.com\"\n",
        "url2 = \"invalid-url\"\n",
        "result1 = is_valid_url(url1)\n",
        "result2 = is_valid_url(url2)\n",
        "print(result1)  # Should print True\n",
        "print(result2)  # Should print False"
      ]
    },
    {
      "cell_type": "markdown",
      "metadata": {
        "id": "ekP_5BkEw03g"
      },
      "source": [
        "## 35. Extract the protocol (http or https) from a URL string."
      ]
    },
    {
      "cell_type": "code",
      "execution_count": null,
      "metadata": {
        "colab": {
          "background_save": true,
          "base_uri": "https://localhost:8080/",
          "height": 35
        },
        "id": "5rFat5zOw3f4",
        "outputId": "d4912f4d-76eb-4cfa-b6cc-1edd674d9cf9"
      },
      "outputs": [
        {
          "data": {
            "application/vnd.google.colaboratory.intrinsic+json": {
              "type": "string"
            },
            "text/plain": [
              "'http'"
            ]
          },
          "execution_count": 79,
          "metadata": {},
          "output_type": "execute_result"
        }
      ],
      "source": [
        "url = 'http://www.example.com'\n",
        "\n",
        "url.split(':')[0]"
      ]
    },
    {
      "cell_type": "markdown",
      "metadata": {
        "id": "Pc0IChh_xdRx"
      },
      "source": [
        "## 36. Find the frequency of each character in a string."
      ]
    },
    {
      "cell_type": "code",
      "execution_count": null,
      "metadata": {
        "colab": {
          "background_save": true
        },
        "id": "69U8a5LXxlMn"
      },
      "outputs": [],
      "source": [
        "s = 'my name is muskan'"
      ]
    },
    {
      "cell_type": "code",
      "execution_count": null,
      "metadata": {
        "colab": {
          "background_save": true,
          "base_uri": "https://localhost:8080/"
        },
        "id": "dYLIL00wyrNK",
        "outputId": "50085a93-ba4e-477b-eef4-5a3b682880ff"
      },
      "outputs": [
        {
          "name": "stdout",
          "output_type": "stream",
          "text": [
            "Count of all characters in GeeksforGeeks is :\n",
            " {'m': 3, 'y': 1, ' ': 3, 'n': 2, 'a': 2, 'e': 1, 'i': 1, 's': 2, 'u': 1, 'k': 1}\n"
          ]
        }
      ],
      "source": [
        "test_str = \"my name is muskan\"\n",
        "\n",
        "# using naive method to get count\n",
        "# of each element in string\n",
        "all_freq = {}\n",
        "\n",
        "for i in test_str:\n",
        "    if i in all_freq:\n",
        "        all_freq[i] += 1\n",
        "    else:\n",
        "        all_freq[i] = 1\n",
        "\n",
        "# printing result\n",
        "print(\"Count of all characters in GeeksforGeeks is :\\n \"\n",
        "      + str(all_freq))\n"
      ]
    },
    {
      "cell_type": "markdown",
      "metadata": {
        "id": "qlq-4zHazOfz"
      },
      "source": [
        "## 37. Remove all punctuation from a string."
      ]
    },
    {
      "cell_type": "code",
      "execution_count": null,
      "metadata": {
        "colab": {
          "background_save": true,
          "base_uri": "https://localhost:8080/"
        },
        "id": "5U_QD62_gtGk",
        "outputId": "c34b4b44-cb05-48a0-aeda-699ad3b19806"
      },
      "outputs": [
        {
          "name": "stdout",
          "output_type": "stream",
          "text": [
            "Original string: Hello, world! How's it going?\n",
            "Cleaned string: Hello world Hows it going\n"
          ]
        }
      ],
      "source": [
        "import string\n",
        "\n",
        "def remove_punctuation(input_string):\n",
        "    # Create a translation table to remove punctuation\n",
        "    translator = str.maketrans(\"\", \"\", string.punctuation)\n",
        "\n",
        "    # Use the translation table to remove punctuation from the input string\n",
        "    clean_string = input_string.translate(translator)\n",
        "\n",
        "    return clean_string\n",
        "\n",
        "# Example string with punctuation\n",
        "input_str = \"Hello, world! How's it going?\"\n",
        "\n",
        "# Remove punctuation\n",
        "cleaned_str = remove_punctuation(input_str)\n",
        "\n",
        "# Print the cleaned string\n",
        "print(\"Original string:\", input_str)\n",
        "print(\"Cleaned string:\", cleaned_str)"
      ]
    },
    {
      "cell_type": "markdown",
      "metadata": {
        "id": "DnHgN7Mp13nF"
      },
      "source": [
        "## 38. Check if a string contains only digits."
      ]
    },
    {
      "cell_type": "code",
      "execution_count": null,
      "metadata": {
        "colab": {
          "background_save": true
        },
        "id": "Fhgf96mB2DNA"
      },
      "outputs": [],
      "source": [
        "s = '134353454'"
      ]
    },
    {
      "cell_type": "code",
      "execution_count": null,
      "metadata": {
        "colab": {
          "background_save": true,
          "base_uri": "https://localhost:8080/"
        },
        "id": "c5dKl5-j2Kau",
        "outputId": "bf926ea6-f5b2-4821-8808-74cf11096212"
      },
      "outputs": [
        {
          "data": {
            "text/plain": [
              "True"
            ]
          },
          "execution_count": 84,
          "metadata": {},
          "output_type": "execute_result"
        }
      ],
      "source": [
        "s.isdigit()"
      ]
    },
    {
      "cell_type": "markdown",
      "metadata": {
        "id": "H0t5AXpX2PaL"
      },
      "source": [
        "## 39. Check if a string contains only alphabets."
      ]
    },
    {
      "cell_type": "code",
      "execution_count": null,
      "metadata": {
        "colab": {
          "background_save": true
        },
        "id": "Scu3yW4L2Y7Y"
      },
      "outputs": [],
      "source": [
        "s = 'pwskills'"
      ]
    },
    {
      "cell_type": "code",
      "execution_count": null,
      "metadata": {
        "colab": {
          "background_save": true,
          "base_uri": "https://localhost:8080/"
        },
        "id": "PHB2taFg2gkd",
        "outputId": "0ab4af00-b33d-4e15-bec5-209c04aaf04f"
      },
      "outputs": [
        {
          "data": {
            "text/plain": [
              "True"
            ]
          },
          "execution_count": 86,
          "metadata": {},
          "output_type": "execute_result"
        }
      ],
      "source": [
        "s.isalpha()"
      ]
    },
    {
      "cell_type": "markdown",
      "metadata": {
        "id": "UxzYHRn82m7A"
      },
      "source": [
        "## 40. Convert a string to a list of characters."
      ]
    },
    {
      "cell_type": "code",
      "execution_count": null,
      "metadata": {
        "colab": {
          "background_save": true
        },
        "id": "GpMRYUmf2wjl"
      },
      "outputs": [],
      "source": [
        "s = 'my name is muskan'"
      ]
    },
    {
      "cell_type": "code",
      "execution_count": null,
      "metadata": {
        "colab": {
          "background_save": true,
          "base_uri": "https://localhost:8080/"
        },
        "id": "D8yVDb6k3CEX",
        "outputId": "1053108a-e471-4f24-a7c7-c0a418e91398"
      },
      "outputs": [
        {
          "name": "stdout",
          "output_type": "stream",
          "text": [
            "['m', 'y', ' ', 'n', 'a', 'm', 'e', ' ', 'i', 's', ' ', 'm', 'u', 's', 'k', 'a', 'n']\n"
          ]
        }
      ],
      "source": [
        "s_list = list(s)\n",
        "\n",
        "print(s_list)"
      ]
    },
    {
      "cell_type": "markdown",
      "metadata": {
        "id": "c-0DVe8v4WO_"
      },
      "source": [
        "## 41. Check if two strings are anagrams."
      ]
    },
    {
      "cell_type": "code",
      "execution_count": null,
      "metadata": {
        "colab": {
          "background_save": true,
          "base_uri": "https://localhost:8080/"
        },
        "id": "BZlZIowo8kl3",
        "outputId": "bd36a9d0-b659-47bb-9907-18cede4729dd"
      },
      "outputs": [
        {
          "name": "stdout",
          "output_type": "stream",
          "text": [
            "the strings are anagram\n"
          ]
        }
      ],
      "source": [
        "s1 = 'listen'\n",
        "\n",
        "s2 = 'silent'\n",
        "\n",
        "if(sorted(s1) == sorted(s2)):\n",
        "  print('the strings are anagram')\n",
        "else:\n",
        "  print('the strings are not anagram')"
      ]
    },
    {
      "cell_type": "markdown",
      "metadata": {
        "id": "PdozrNdR8naD"
      },
      "source": [
        "## 42. Encode a string using a Caesar cipher."
      ]
    },
    {
      "cell_type": "code",
      "execution_count": null,
      "metadata": {
        "colab": {
          "background_save": true,
          "base_uri": "https://localhost:8080/"
        },
        "id": "Koxt4kNTgs7D",
        "outputId": "8c0ecd16-672e-4799-cf14-d1d3eaeca714"
      },
      "outputs": [
        {
          "name": "stdout",
          "output_type": "stream",
          "text": [
            "Encoded text: ehoor, zruog!\n"
          ]
        }
      ],
      "source": [
        "# Define a function named caesar_cipher that encodes a string using a Caesar cipher.\n",
        "def caesar_cipher(text, shift):\n",
        "  \"\"\"\n",
        "  Encodes a string using a Caesar cipher.\n",
        "\n",
        "  Args:\n",
        "    text: The string to encode.\n",
        "    shift: The number of positions to shift each letter.\n",
        "\n",
        "  Returns:\n",
        "    The encoded string.\n",
        "  \"\"\"\n",
        "\n",
        "  # Initialize an empty string to store the encoded text.\n",
        "  encoded_text = \"\"\n",
        "\n",
        "  # Iterate through each character in the input text.\n",
        "  for char in text:\n",
        "    # Check if the character is alphabetic.\n",
        "    if char.isalpha():\n",
        "      # Calculate the encoded character's Unicode code point value by shifting it by the specified amount.\n",
        "      # Ensure the value wraps around within the lowercase alphabet range (a-z).\n",
        "      encoded_char = chr((ord(char) + shift - ord('a')) % 26 + ord('a'))\n",
        "    else:\n",
        "      # Keep non-alphabetic characters unchanged.\n",
        "      encoded_char = char\n",
        "\n",
        "    # Add the encoded character to the encoded text.\n",
        "    encoded_text += encoded_char\n",
        "\n",
        "  # Return the resulting encoded text.\n",
        "  return encoded_text\n",
        "\n",
        "# Define the input text and the shift value for encoding.\n",
        "text = \"Hello, world!\"\n",
        "shift = 3\n",
        "\n",
        "# Call the caesar_cipher function to encode the text using the specified shift.\n",
        "encoded_text = caesar_cipher(text, shift)\n",
        "\n",
        "# Print the encoded text.\n",
        "print(\"Encoded text:\", encoded_text)"
      ]
    },
    {
      "cell_type": "markdown",
      "metadata": {
        "id": "K0zG17Px8_MD"
      },
      "source": [
        "## 43. Decode a Caesar cipher encoded string."
      ]
    },
    {
      "cell_type": "code",
      "execution_count": null,
      "metadata": {
        "colab": {
          "background_save": true,
          "base_uri": "https://localhost:8080/"
        },
        "id": "rAymUy7Vgs6C",
        "outputId": "249e7c04-2ae4-4717-faf6-a9d015a3b245"
      },
      "outputs": [
        {
          "name": "stdout",
          "output_type": "stream",
          "text": [
            "Decoded text: ilmm, world!\n"
          ]
        }
      ],
      "source": [
        "# Define a function to decode a string using a Caesar cipher\n",
        "def caesar_cipher_decoder(text, shift):\n",
        "    \"\"\"\n",
        "    Decodes a string using a Caesar cipher.\n",
        "\n",
        "    Args:\n",
        "        text: The string to decode.\n",
        "        shift: The number of positions to shift each letter.\n",
        "\n",
        "    Returns:\n",
        "        The decoded string.\n",
        "    \"\"\"\n",
        "\n",
        "    # Initialize an empty string to store the decoded text\n",
        "    decoded_text = \"\"\n",
        "\n",
        "    # Loop through each character in the input text\n",
        "    for char in text:\n",
        "        # Check if the character is an alphabetic character\n",
        "        if char.isalpha():\n",
        "            # Calculate the decoded character using the shift value\n",
        "            decoded_char = chr((ord(char) - shift - ord('a')) % 26 + ord('a'))\n",
        "        else:\n",
        "            # If the character is not alphabetic, keep it unchanged\n",
        "            decoded_char = char\n",
        "\n",
        "        # Add the decoded character to the decoded text\n",
        "        decoded_text += decoded_char\n",
        "\n",
        "    # Return the fully decoded text\n",
        "    return decoded_text\n",
        "\n",
        "# Example input\n",
        "text = \"lopp, zruog!\"\n",
        "shift = 3\n",
        "\n",
        "# Call the caesar_cipher_decoder function to decode the input text\n",
        "decoded_text = caesar_cipher_decoder(text, shift)\n",
        "\n",
        "# Print the decoded text\n",
        "print(\"Decoded text:\", decoded_text)"
      ]
    },
    {
      "cell_type": "markdown",
      "metadata": {
        "id": "VZgkn9qZ-Up8"
      },
      "source": [
        "## 44. Find the most frequent word in a string."
      ]
    },
    {
      "cell_type": "code",
      "execution_count": null,
      "metadata": {
        "colab": {
          "background_save": true,
          "base_uri": "https://localhost:8080/"
        },
        "id": "fAtgSmmHLD-G",
        "outputId": "5ac730e6-cb89-40d1-f574-9e8818fc9514"
      },
      "outputs": [
        {
          "name": "stdout",
          "output_type": "stream",
          "text": [
            "The original list is : ['pw skill is best', 'students love pw skill', 'pw  is awesome']\n",
            "Word with maximum frequency : pw\n"
          ]
        }
      ],
      "source": [
        "from statistics import mode\n",
        "# initializing Matrix\n",
        "test_list = [\"pw skill is best\", \"students love pw skill\", \"pw  is awesome\"]\n",
        "\n",
        "# printing original list\n",
        "print(\"The original list is : \" + str(test_list))\n",
        "\n",
        "# getting all words\n",
        "temp = [wrd for sub in test_list for wrd in sub.split()]\n",
        "\n",
        "# getting frequency\n",
        "res = mode(temp)\n",
        "\n",
        "# printing result\n",
        "print(\"Word with maximum frequency : \" + str(res))"
      ]
    },
    {
      "cell_type": "markdown",
      "metadata": {
        "id": "QwExV7CoXLo7"
      },
      "source": [
        "## 45. Find all unique words in a string."
      ]
    },
    {
      "cell_type": "code",
      "execution_count": null,
      "metadata": {
        "colab": {
          "background_save": true,
          "base_uri": "https://localhost:8080/"
        },
        "id": "7Lx4DBHnXd-y",
        "outputId": "3af21979-2a88-496f-be4a-dce5d84b3df8"
      },
      "outputs": [
        {
          "name": "stdout",
          "output_type": "stream",
          "text": [
            "{'one', 'two'}\n",
            "2\n"
          ]
        }
      ],
      "source": [
        "my_str = 'one one two two'\n",
        "\n",
        "unique_words = set(my_str.split())\n",
        "print(unique_words)  #  {'one', 'two'}\n",
        "\n",
        "length = len(unique_words)\n",
        "print(length)  #  2"
      ]
    },
    {
      "cell_type": "markdown",
      "metadata": {
        "id": "3OO941apZvDj"
      },
      "source": [
        "## 46. Count the number of syllables in a string."
      ]
    },
    {
      "cell_type": "code",
      "execution_count": null,
      "metadata": {
        "colab": {
          "background_save": true
        },
        "id": "63QfgHwQaDEn"
      },
      "outputs": [],
      "source": []
    },
    {
      "cell_type": "code",
      "execution_count": null,
      "metadata": {
        "colab": {
          "background_save": true,
          "base_uri": "https://localhost:8080/"
        },
        "id": "BbU8BjWmgsuj",
        "outputId": "8b1e051e-84cc-472b-98c5-bf4f634cb693"
      },
      "outputs": [
        {
          "name": "stdout",
          "output_type": "stream",
          "text": [
            "'hello' has 2 syllables.\n"
          ]
        }
      ],
      "source": [
        "import re\n",
        "\n",
        "def count_syllables(word):\n",
        "    # Count vowel groups using regular expression\n",
        "    vowel_groups = re.findall(r'[aeiouy]+', word, re.IGNORECASE)\n",
        "\n",
        "    return len(vowel_groups)\n",
        "\n",
        "# Example words\n",
        "word1 = \"hello\"\n",
        "\n",
        "\n",
        "# Count syllables\n",
        "syllables1 = count_syllables(word1)\n",
        "\n",
        "\n",
        "\n",
        "# Print the results\n",
        "print(f\"'{word1}' has {syllables1} syllables.\")\n"
      ]
    },
    {
      "cell_type": "markdown",
      "metadata": {
        "id": "_XQGVJuwrRjM"
      },
      "source": [
        "## 47. Check if a string contains any special characters."
      ]
    },
    {
      "cell_type": "code",
      "execution_count": null,
      "metadata": {
        "colab": {
          "background_save": true,
          "base_uri": "https://localhost:8080/"
        },
        "id": "Agd1Jtk3gsoJ",
        "outputId": "a1c9b65a-3d6a-4a3e-8c9d-7b638936dbbc"
      },
      "outputs": [
        {
          "name": "stdout",
          "output_type": "stream",
          "text": [
            "'Hello, world!' contains special characters: True\n"
          ]
        }
      ],
      "source": [
        "import re\n",
        "\n",
        "def contains_special_characters(input_string):\n",
        "    # Define a regular expression pattern to match special characters\n",
        "    pattern = re.compile(r'[!@#$%^&*()_+{}\\[\\]:;<>,.?~\\\\/]')\n",
        "\n",
        "    # Use the search() method to find a match\n",
        "    match = pattern.search(input_string)\n",
        "\n",
        "    # Return True if a match is found, False otherwise\n",
        "    return bool(match)\n",
        "\n",
        "# Example strings\n",
        "string1 = \"Hello, world!\"\n",
        "\n",
        "\n",
        "# Check if strings contain special characters\n",
        "result1 = contains_special_characters(string1)\n",
        "\n",
        "\n",
        "# Print the results\n",
        "print(f\"'{string1}' contains special characters:\", result1)\n"
      ]
    },
    {
      "cell_type": "markdown",
      "metadata": {
        "id": "GGkYQON3wANq"
      },
      "source": [
        "## 48. Remove the nth word from a string."
      ]
    },
    {
      "cell_type": "code",
      "execution_count": null,
      "metadata": {
        "colab": {
          "background_save": true,
          "base_uri": "https://localhost:8080/"
        },
        "id": "Fd30C7zogslQ",
        "outputId": "a02993e4-ff0e-429c-d9c3-cc5abe781ebf"
      },
      "outputs": [
        {
          "name": "stdout",
          "output_type": "stream",
          "text": [
            "Original string: This is an example sentence to test the function.\n",
            "Modified string: This is an sentence to test the function.\n",
            "Removed word: example\n"
          ]
        }
      ],
      "source": [
        "def remove_nth_word(input_string, n):\n",
        "    # Split the input string into words\n",
        "    words = input_string.split()\n",
        "\n",
        "    # Check if n is within a valid range\n",
        "    if n >= 1 and n <= len(words):\n",
        "        # Remove the nth word by excluding it from the words list\n",
        "        removed_word = words.pop(n - 1)\n",
        "\n",
        "        # Join the remaining words to form the modified string\n",
        "        modified_string = ' '.join(words)\n",
        "\n",
        "        return modified_string, removed_word\n",
        "    else:\n",
        "        return None, None\n",
        "\n",
        "# Example string and n value\n",
        "input_str = \"This is an example sentence to test the function.\"\n",
        "n_value = 4\n",
        "\n",
        "# Remove the nth word\n",
        "modified_str, removed_word = remove_nth_word(input_str, n_value)\n",
        "\n",
        "# Print the results\n",
        "print(\"Original string:\", input_str)\n",
        "if modified_str is not None:\n",
        "    print(\"Modified string:\", modified_str)\n",
        "    print(\"Removed word:\", removed_word)\n",
        "else:\n",
        "    print(\"Invalid n value.\")"
      ]
    },
    {
      "cell_type": "markdown",
      "metadata": {
        "id": "f6l1GSeG9OwC"
      },
      "source": [
        "## 49. Insert a word at the nth position in a string."
      ]
    },
    {
      "cell_type": "code",
      "execution_count": null,
      "metadata": {
        "colab": {
          "background_save": true
        },
        "id": "Lz7oYyzq9TGD"
      },
      "outputs": [],
      "source": []
    },
    {
      "cell_type": "markdown",
      "metadata": {
        "id": "f33Cl1cKxRDr"
      },
      "source": [
        "## 50. Convert a CSV string to a list of lists."
      ]
    },
    {
      "cell_type": "code",
      "execution_count": null,
      "metadata": {
        "colab": {
          "background_save": true,
          "base_uri": "https://localhost:8080/"
        },
        "id": "-23QMFw5gse9",
        "outputId": "7928b67a-180d-47cd-ec5b-36d88b4df0df"
      },
      "outputs": [
        {
          "name": "stdout",
          "output_type": "stream",
          "text": [
            "['Name', ' Age', ' Country\\\\muskan', ' 24', ' india', ' 30', ' Canada']\n",
            "['Bob', ' 22', ' UK']\n"
          ]
        }
      ],
      "source": [
        "def csv_string_to_list(csv_string):\n",
        "    # Split the CSV string into lines\n",
        "    lines = csv_string.split('\\n')\n",
        "\n",
        "    # Initialize an empty list to store the result\n",
        "    result = []\n",
        "\n",
        "    for line in lines:\n",
        "        # Split each line into fields using comma as the delimiter\n",
        "        fields = line.split(',')\n",
        "\n",
        "        # Append the fields to the result list as a row\n",
        "        result.append(fields)\n",
        "\n",
        "    return result\n",
        "\n",
        "# Example CSV string\n",
        "csv_data = \"Name, Age, Country\\muskan, 24, india, 30, Canada\\nBob, 22, UK\"\n",
        "\n",
        "# Convert CSV string to a list of lists\n",
        "list_of_lists = csv_string_to_list(csv_data)\n",
        "\n",
        "# Print the result\n",
        "for row in list_of_lists:\n",
        "    print(row)"
      ]
    },
    {
      "cell_type": "markdown",
      "metadata": {
        "id": "A4uLyFdSxjlo"
      },
      "source": [
        "# **List Based Practice Problem :**"
      ]
    },
    {
      "cell_type": "markdown",
      "metadata": {
        "id": "0_gvMwPbxuMH"
      },
      "source": [
        "## 1. Create a list with integers from 1 to 10."
      ]
    },
    {
      "cell_type": "code",
      "execution_count": null,
      "metadata": {
        "colab": {
          "background_save": true
        },
        "id": "P8OPvYQYxzhs"
      },
      "outputs": [],
      "source": [
        "l = list(range(1,11))"
      ]
    },
    {
      "cell_type": "code",
      "execution_count": null,
      "metadata": {
        "colab": {
          "background_save": true,
          "base_uri": "https://localhost:8080/"
        },
        "id": "vwK3bHBj_9WE",
        "outputId": "c80eb6f9-6a41-4b54-81df-3cf1edcd75bd"
      },
      "outputs": [
        {
          "data": {
            "text/plain": [
              "[1, 2, 3, 4, 5, 6, 7, 8, 9, 10]"
            ]
          },
          "execution_count": 99,
          "metadata": {},
          "output_type": "execute_result"
        }
      ],
      "source": [
        "l"
      ]
    },
    {
      "cell_type": "code",
      "execution_count": null,
      "metadata": {
        "colab": {
          "background_save": true
        },
        "id": "i1MYQxPyAo4A"
      },
      "outputs": [],
      "source": [
        "l = [1,2,3,4,5,6,7,8,9,10]"
      ]
    },
    {
      "cell_type": "code",
      "execution_count": null,
      "metadata": {
        "colab": {
          "background_save": true,
          "base_uri": "https://localhost:8080/"
        },
        "id": "AVWYy1V_BEuA",
        "outputId": "473b94ad-2acf-40fe-e7ee-c5692bc9c1de"
      },
      "outputs": [
        {
          "data": {
            "text/plain": [
              "list"
            ]
          },
          "execution_count": 101,
          "metadata": {},
          "output_type": "execute_result"
        }
      ],
      "source": [
        "type(l)"
      ]
    },
    {
      "cell_type": "markdown",
      "metadata": {
        "id": "Z3JGbQFbBYZs"
      },
      "source": [
        "## 2. Find the length of a list without using the `len()` function."
      ]
    },
    {
      "cell_type": "code",
      "execution_count": null,
      "metadata": {
        "colab": {
          "background_save": true,
          "base_uri": "https://localhost:8080/"
        },
        "id": "hfJ998DQgsbO",
        "outputId": "1c39a372-4705-469b-f025-cb6a2211dd52"
      },
      "outputs": [
        {
          "name": "stdout",
          "output_type": "stream",
          "text": [
            "Length of the list: 5\n"
          ]
        }
      ],
      "source": [
        "def custom_len(input_list):\n",
        "    count = 0\n",
        "    for _ in input_list:\n",
        "        count += 1\n",
        "    return count\n",
        "\n",
        "my_list = [10, 20, 30, 40, 50]\n",
        "\n",
        "# Find the length of the list using the custom_len function\n",
        "length = custom_len(my_list)\n",
        "\n",
        "# Print the length of the list\n",
        "print(\"Length of the list:\", length)"
      ]
    },
    {
      "cell_type": "markdown",
      "metadata": {
        "id": "hey9hlGCFAbj"
      },
      "source": [
        "## 3. Append an element to the end of a list."
      ]
    },
    {
      "cell_type": "code",
      "execution_count": null,
      "metadata": {
        "colab": {
          "background_save": true
        },
        "id": "2mm48L2nFG6e"
      },
      "outputs": [],
      "source": [
        "l = [1,6,8,9,55,99]"
      ]
    },
    {
      "cell_type": "code",
      "execution_count": null,
      "metadata": {
        "colab": {
          "background_save": true
        },
        "id": "SzgqSIpJFNuM"
      },
      "outputs": [],
      "source": [
        "l.append(67)"
      ]
    },
    {
      "cell_type": "code",
      "execution_count": null,
      "metadata": {
        "colab": {
          "background_save": true,
          "base_uri": "https://localhost:8080/"
        },
        "id": "yTdBWK1iFVLG",
        "outputId": "926b12d4-0b30-43e0-9da8-3c01be24081c"
      },
      "outputs": [
        {
          "data": {
            "text/plain": [
              "[1, 6, 8, 9, 55, 99, 67]"
            ]
          },
          "execution_count": 105,
          "metadata": {},
          "output_type": "execute_result"
        }
      ],
      "source": [
        "l"
      ]
    },
    {
      "cell_type": "markdown",
      "metadata": {
        "id": "EanIooOKFagn"
      },
      "source": [
        "## 4. Insert an element at a specific index in a list."
      ]
    },
    {
      "cell_type": "code",
      "execution_count": null,
      "metadata": {
        "colab": {
          "background_save": true
        },
        "id": "ahY9LK75FlXb"
      },
      "outputs": [],
      "source": [
        "l = [1,2,3,4,5,6,7,8,9]"
      ]
    },
    {
      "cell_type": "code",
      "execution_count": null,
      "metadata": {
        "colab": {
          "background_save": true
        },
        "id": "KqOlLSTQF2Kz"
      },
      "outputs": [],
      "source": [
        "l.insert(1,6)"
      ]
    },
    {
      "cell_type": "code",
      "execution_count": null,
      "metadata": {
        "colab": {
          "background_save": true,
          "base_uri": "https://localhost:8080/"
        },
        "id": "pjJw5TmnGBhW",
        "outputId": "5395021f-cee7-4b9a-f1b8-ce2cfb574c9e"
      },
      "outputs": [
        {
          "data": {
            "text/plain": [
              "[1, 6, 2, 3, 4, 5, 6, 7, 8, 9]"
            ]
          },
          "execution_count": 108,
          "metadata": {},
          "output_type": "execute_result"
        }
      ],
      "source": [
        "l"
      ]
    },
    {
      "cell_type": "markdown",
      "metadata": {
        "id": "iWfYfL5nGIVG"
      },
      "source": [
        "## 5. Remove an element from a list by its value."
      ]
    },
    {
      "cell_type": "code",
      "execution_count": null,
      "metadata": {
        "colab": {
          "background_save": true
        },
        "id": "Fe71OJI6GUv7"
      },
      "outputs": [],
      "source": [
        "l = [2,4,5,6,8,10]"
      ]
    },
    {
      "cell_type": "code",
      "execution_count": null,
      "metadata": {
        "colab": {
          "background_save": true
        },
        "id": "NQ9o7zlQGdlb"
      },
      "outputs": [],
      "source": [
        "l.remove(5)"
      ]
    },
    {
      "cell_type": "code",
      "execution_count": null,
      "metadata": {
        "colab": {
          "background_save": true,
          "base_uri": "https://localhost:8080/"
        },
        "id": "KsEh466rGmVo",
        "outputId": "dc254551-4482-4931-c673-47985bf3bc5f"
      },
      "outputs": [
        {
          "data": {
            "text/plain": [
              "[2, 4, 6, 8, 10]"
            ]
          },
          "execution_count": 111,
          "metadata": {},
          "output_type": "execute_result"
        }
      ],
      "source": [
        "l"
      ]
    },
    {
      "cell_type": "markdown",
      "metadata": {
        "id": "ijjPZJ0yGpd7"
      },
      "source": [
        "## 6. Remove an element from a list by its index."
      ]
    },
    {
      "cell_type": "code",
      "execution_count": null,
      "metadata": {
        "colab": {
          "background_save": true
        },
        "id": "TKCY2BBGGwNV"
      },
      "outputs": [],
      "source": [
        "l = [1,2,4,6,8,9,5,3]"
      ]
    },
    {
      "cell_type": "code",
      "execution_count": null,
      "metadata": {
        "colab": {
          "background_save": true,
          "base_uri": "https://localhost:8080/"
        },
        "id": "gn57-G-QG9Hh",
        "outputId": "a3a84141-5dee-4f59-a78c-92b013655b70"
      },
      "outputs": [
        {
          "data": {
            "text/plain": [
              "2"
            ]
          },
          "execution_count": 113,
          "metadata": {},
          "output_type": "execute_result"
        }
      ],
      "source": [
        "l.pop(1)"
      ]
    },
    {
      "cell_type": "code",
      "execution_count": null,
      "metadata": {
        "colab": {
          "background_save": true,
          "base_uri": "https://localhost:8080/"
        },
        "id": "DH3DzLb1HD1v",
        "outputId": "c9228b04-6265-4396-bf72-8ef0858915f4"
      },
      "outputs": [
        {
          "data": {
            "text/plain": [
              "[1, 4, 6, 8, 9, 5, 3]"
            ]
          },
          "execution_count": 114,
          "metadata": {},
          "output_type": "execute_result"
        }
      ],
      "source": [
        "l"
      ]
    },
    {
      "cell_type": "markdown",
      "metadata": {
        "id": "CoU9cW5JHKOH"
      },
      "source": [
        "## 7. Check if an element exists in a list."
      ]
    },
    {
      "cell_type": "code",
      "execution_count": null,
      "metadata": {
        "colab": {
          "background_save": true,
          "base_uri": "https://localhost:8080/"
        },
        "id": "J7-olb7DgsKt",
        "outputId": "38b67c99-e11d-4104-96f2-a176e04669b6"
      },
      "outputs": [
        {
          "name": "stdout",
          "output_type": "stream",
          "text": [
            "8 exists in the list.\n"
          ]
        }
      ],
      "source": [
        "# Example list\n",
        "my_list = [2,4,6,8,10]\n",
        "\n",
        "# Element to check\n",
        "element_to_check = 8\n",
        "\n",
        "# Check if the element exists in the list\n",
        "if element_to_check in my_list:\n",
        "    print(f\"{element_to_check} exists in the list.\")\n",
        "else:\n",
        "    print(f\"{element_to_check} does not exist in the list.\")"
      ]
    },
    {
      "cell_type": "markdown",
      "metadata": {
        "id": "8AEXc2qJID6Q"
      },
      "source": [
        "## 8. Find the index of the first occurrence of an element in a list."
      ]
    },
    {
      "cell_type": "code",
      "execution_count": null,
      "metadata": {
        "colab": {
          "background_save": true
        },
        "id": "FkMgLnMsIMUX"
      },
      "outputs": [],
      "source": [
        "l = [2,4,6,8,10]"
      ]
    },
    {
      "cell_type": "code",
      "execution_count": null,
      "metadata": {
        "colab": {
          "background_save": true,
          "base_uri": "https://localhost:8080/"
        },
        "id": "sS2HG2ZpIbjf",
        "outputId": "2133b51d-3ea9-446a-e72c-4f5756679658"
      },
      "outputs": [
        {
          "data": {
            "text/plain": [
              "0"
            ]
          },
          "execution_count": 117,
          "metadata": {},
          "output_type": "execute_result"
        }
      ],
      "source": [
        "l.index(2)"
      ]
    },
    {
      "cell_type": "markdown",
      "metadata": {
        "id": "Vq7u8lCXIrQM"
      },
      "source": [
        "## 9. Count the occurrences of an element in a list."
      ]
    },
    {
      "cell_type": "code",
      "execution_count": null,
      "metadata": {
        "colab": {
          "background_save": true
        },
        "id": "pW6qYx97Iy79"
      },
      "outputs": [],
      "source": [
        "l = [1,2,3,4,4,5,6,7,8,9]"
      ]
    },
    {
      "cell_type": "code",
      "execution_count": null,
      "metadata": {
        "colab": {
          "background_save": true,
          "base_uri": "https://localhost:8080/"
        },
        "id": "EN_w-GF5I7IN",
        "outputId": "3f203e6f-b5fa-4102-f637-03983dc8ed89"
      },
      "outputs": [
        {
          "data": {
            "text/plain": [
              "2"
            ]
          },
          "execution_count": 119,
          "metadata": {},
          "output_type": "execute_result"
        }
      ],
      "source": [
        "l.count(4)"
      ]
    },
    {
      "cell_type": "markdown",
      "metadata": {
        "id": "Q7hgDfMGJFS-"
      },
      "source": [
        "## 10. Reverse the order of elements in a list."
      ]
    },
    {
      "cell_type": "code",
      "execution_count": null,
      "metadata": {
        "colab": {
          "background_save": true
        },
        "id": "PAiSyT4uJQSY"
      },
      "outputs": [],
      "source": [
        "l = [1,2,3,4,5,6,7,8,9,10]"
      ]
    },
    {
      "cell_type": "code",
      "execution_count": null,
      "metadata": {
        "colab": {
          "background_save": true
        },
        "id": "Cib_J3GhJnZk"
      },
      "outputs": [],
      "source": [
        "l.reverse()"
      ]
    },
    {
      "cell_type": "code",
      "execution_count": null,
      "metadata": {
        "colab": {
          "background_save": true,
          "base_uri": "https://localhost:8080/"
        },
        "id": "g23tvI2ZLBzk",
        "outputId": "6e6e96a5-c2d6-4f67-9716-c76810d041f4"
      },
      "outputs": [
        {
          "data": {
            "text/plain": [
              "[10, 9, 8, 7, 6, 5, 4, 3, 2, 1]"
            ]
          },
          "execution_count": 122,
          "metadata": {},
          "output_type": "execute_result"
        }
      ],
      "source": [
        "l"
      ]
    },
    {
      "cell_type": "markdown",
      "metadata": {
        "id": "EJD0oicwLEAS"
      },
      "source": [
        "## 11. Sort a list in ascending order."
      ]
    },
    {
      "cell_type": "code",
      "execution_count": null,
      "metadata": {
        "colab": {
          "background_save": true
        },
        "id": "wuA25XWzLOxI"
      },
      "outputs": [],
      "source": [
        "l = [2,1,5,9,4,3,1]"
      ]
    },
    {
      "cell_type": "code",
      "execution_count": null,
      "metadata": {
        "colab": {
          "background_save": true
        },
        "id": "zN1qbIrvLVGB"
      },
      "outputs": [],
      "source": [
        "l.sort()"
      ]
    },
    {
      "cell_type": "code",
      "execution_count": null,
      "metadata": {
        "colab": {
          "background_save": true,
          "base_uri": "https://localhost:8080/"
        },
        "id": "yDWpmQZTLbMh",
        "outputId": "890843ed-fc41-48af-dafd-4f4dc8b10b22"
      },
      "outputs": [
        {
          "data": {
            "text/plain": [
              "[1, 1, 2, 3, 4, 5, 9]"
            ]
          },
          "execution_count": 125,
          "metadata": {},
          "output_type": "execute_result"
        }
      ],
      "source": [
        "l"
      ]
    },
    {
      "cell_type": "markdown",
      "metadata": {
        "id": "7LQRvsFxLmnX"
      },
      "source": [
        "## 12. Sort a list in descending order."
      ]
    },
    {
      "cell_type": "code",
      "execution_count": null,
      "metadata": {
        "colab": {
          "background_save": true
        },
        "id": "0iXNSKNAU1Bc"
      },
      "outputs": [],
      "source": [
        "l = [2,4,6,1,3,9,8]"
      ]
    },
    {
      "cell_type": "code",
      "execution_count": null,
      "metadata": {
        "colab": {
          "background_save": true
        },
        "id": "NPpfr7hPVJJD"
      },
      "outputs": [],
      "source": [
        "l.sort(reverse=True)"
      ]
    },
    {
      "cell_type": "code",
      "execution_count": null,
      "metadata": {
        "colab": {
          "background_save": true,
          "base_uri": "https://localhost:8080/"
        },
        "id": "_ow9hwHmV3ev",
        "outputId": "ccb1463b-680e-4e69-9dcf-b13cd146526e"
      },
      "outputs": [
        {
          "data": {
            "text/plain": [
              "[9, 8, 6, 4, 3, 2, 1]"
            ]
          },
          "execution_count": 128,
          "metadata": {},
          "output_type": "execute_result"
        }
      ],
      "source": [
        "l"
      ]
    },
    {
      "cell_type": "markdown",
      "metadata": {
        "id": "zY3v8GqlWWzK"
      },
      "source": [
        "## 13. Create a list of even numbers from 1 to 20."
      ]
    },
    {
      "cell_type": "code",
      "execution_count": null,
      "metadata": {
        "colab": {
          "background_save": true,
          "base_uri": "https://localhost:8080/"
        },
        "id": "QKoCcI-dgr7s",
        "outputId": "a21ed562-f1d9-49f2-8b93-f3718368b1e1"
      },
      "outputs": [
        {
          "name": "stdout",
          "output_type": "stream",
          "text": [
            "List of even numbers: [2, 4, 6, 8, 10, 12, 14, 16, 18, 20]\n"
          ]
        }
      ],
      "source": [
        "# Use a list comprehension to create a list of even numbers from 1 to 20\n",
        "even_numbers = [x for x in range(2, 21, 2)]\n",
        "\n",
        "# Print the list of even numbers\n",
        "print(\"List of even numbers:\", even_numbers)"
      ]
    },
    {
      "cell_type": "markdown",
      "metadata": {
        "id": "RnSIi_--ZCjd"
      },
      "source": [
        "## 14. Create a list of odd numbers from 1 to 20."
      ]
    },
    {
      "cell_type": "code",
      "execution_count": null,
      "metadata": {
        "colab": {
          "background_save": true,
          "base_uri": "https://localhost:8080/"
        },
        "id": "X4zdu8hZgr66",
        "outputId": "62e8a6d3-6f52-4c52-e934-540c026d730a"
      },
      "outputs": [
        {
          "name": "stdout",
          "output_type": "stream",
          "text": [
            "List of odd numbers: [1, 3, 5, 7, 9, 11, 13, 15, 17, 19]\n"
          ]
        }
      ],
      "source": [
        "# Use a list comprehension to create a list of odd numbers from 1 to 20\n",
        "odd_numbers = [x for x in range(1, 21, 2)]\n",
        "\n",
        "# Print the list of odd numbers\n",
        "print(\"List of odd numbers:\", odd_numbers)"
      ]
    },
    {
      "cell_type": "markdown",
      "metadata": {
        "id": "sBElmfWdZmy7"
      },
      "source": [
        "## 15. Find the sum of all elements in a list."
      ]
    },
    {
      "cell_type": "code",
      "execution_count": null,
      "metadata": {
        "colab": {
          "background_save": true
        },
        "id": "KtO2HvNnZp6I"
      },
      "outputs": [],
      "source": [
        "l = [10,20,30,40,50,60]"
      ]
    },
    {
      "cell_type": "code",
      "execution_count": null,
      "metadata": {
        "colab": {
          "background_save": true
        },
        "id": "upL7lWuIZzAe"
      },
      "outputs": [],
      "source": [
        "l = sum(l)"
      ]
    },
    {
      "cell_type": "code",
      "execution_count": null,
      "metadata": {
        "colab": {
          "background_save": true,
          "base_uri": "https://localhost:8080/"
        },
        "id": "MQbFnLijZ5XO",
        "outputId": "ac11f189-e125-4817-90f8-779a96b5cbc7"
      },
      "outputs": [
        {
          "data": {
            "text/plain": [
              "210"
            ]
          },
          "execution_count": 133,
          "metadata": {},
          "output_type": "execute_result"
        }
      ],
      "source": [
        "l"
      ]
    },
    {
      "cell_type": "markdown",
      "metadata": {
        "id": "2UkxF7C-Z9va"
      },
      "source": [
        "## 16. Find the maximum value in a list."
      ]
    },
    {
      "cell_type": "code",
      "execution_count": null,
      "metadata": {
        "colab": {
          "background_save": true
        },
        "id": "WTJoDkp6aHxl"
      },
      "outputs": [],
      "source": [
        "l = [2,3,4,5,6,7,8,9]"
      ]
    },
    {
      "cell_type": "code",
      "execution_count": null,
      "metadata": {
        "colab": {
          "background_save": true
        },
        "id": "GIE_c--WaTHV"
      },
      "outputs": [],
      "source": [
        "l = max(l)"
      ]
    },
    {
      "cell_type": "code",
      "execution_count": null,
      "metadata": {
        "colab": {
          "background_save": true,
          "base_uri": "https://localhost:8080/"
        },
        "id": "TG2X-k1dazXs",
        "outputId": "46e739ef-8d9c-48b2-f9d0-8d9a2f255ac0"
      },
      "outputs": [
        {
          "data": {
            "text/plain": [
              "9"
            ]
          },
          "execution_count": 136,
          "metadata": {},
          "output_type": "execute_result"
        }
      ],
      "source": [
        "l"
      ]
    },
    {
      "cell_type": "markdown",
      "metadata": {
        "id": "8U3lOhWla2a1"
      },
      "source": [
        "## 17. Find the minimum value in a list."
      ]
    },
    {
      "cell_type": "code",
      "execution_count": null,
      "metadata": {
        "colab": {
          "background_save": true
        },
        "id": "ZTGit7wQa-J7"
      },
      "outputs": [],
      "source": [
        "l = [2,7,9,1,8]"
      ]
    },
    {
      "cell_type": "code",
      "execution_count": null,
      "metadata": {
        "colab": {
          "background_save": true
        },
        "id": "a5FiIQE6bEF3"
      },
      "outputs": [],
      "source": [
        "l = min(l)"
      ]
    },
    {
      "cell_type": "code",
      "execution_count": null,
      "metadata": {
        "colab": {
          "background_save": true,
          "base_uri": "https://localhost:8080/"
        },
        "id": "Wn0ufPQLbJS8",
        "outputId": "2b3474af-bfd8-4017-ac05-604129565bea"
      },
      "outputs": [
        {
          "data": {
            "text/plain": [
              "1"
            ]
          },
          "execution_count": 139,
          "metadata": {},
          "output_type": "execute_result"
        }
      ],
      "source": [
        "l"
      ]
    },
    {
      "cell_type": "markdown",
      "metadata": {
        "id": "EsGnQBFWbMor"
      },
      "source": [
        "## 18. Create a list of squares of numbers from 1 to 10."
      ]
    },
    {
      "cell_type": "code",
      "execution_count": null,
      "metadata": {
        "colab": {
          "background_save": true,
          "base_uri": "https://localhost:8080/"
        },
        "id": "_0IoT32Kgrq1",
        "outputId": "a7e9bcc8-1f6c-4219-e201-6d74a98d4df9"
      },
      "outputs": [
        {
          "name": "stdout",
          "output_type": "stream",
          "text": [
            "List of squares: [1, 4, 9, 16, 25, 36, 49, 64, 81, 100]\n"
          ]
        }
      ],
      "source": [
        "# Use a list comprehension to create a list of squares of numbers from 1 to 10\n",
        "squares = [x ** 2 for x in range(1, 11)]\n",
        "\n",
        "# Print the list of squares\n",
        "print(\"List of squares:\", squares)"
      ]
    },
    {
      "cell_type": "markdown",
      "metadata": {
        "id": "vLIuxeiAbsQR"
      },
      "source": [
        "## 19. Create a list of random numbers."
      ]
    },
    {
      "cell_type": "code",
      "execution_count": null,
      "metadata": {
        "colab": {
          "background_save": true,
          "base_uri": "https://localhost:8080/"
        },
        "id": "uKrRQ4psgrpC",
        "outputId": "e5ab4288-8a64-463e-8a60-a5bb1cdf71c3"
      },
      "outputs": [
        {
          "name": "stdout",
          "output_type": "stream",
          "text": [
            "List of random integers: [51, 62, 96, 51, 18, 7, 25, 92, 60, 77]\n"
          ]
        }
      ],
      "source": [
        "import random\n",
        "\n",
        "# Create a list of random integers between 1 and 100\n",
        "random_integers = [random.randint(1, 100) for _ in range(10)]\n",
        "\n",
        "# Print the list of random integers\n",
        "print(\"List of random integers:\", random_integers)"
      ]
    },
    {
      "cell_type": "markdown",
      "metadata": {
        "id": "HaFxewbechjE"
      },
      "source": [
        "## 20. Remove duplicates from a list."
      ]
    },
    {
      "cell_type": "code",
      "execution_count": null,
      "metadata": {
        "colab": {
          "background_save": true,
          "base_uri": "https://localhost:8080/"
        },
        "id": "GCtPMDhngrnD",
        "outputId": "174d24f1-b28b-419c-fba2-7c5f34886718"
      },
      "outputs": [
        {
          "name": "stdout",
          "output_type": "stream",
          "text": [
            "List without duplicates: {40, 10, 50, 20, 30}\n"
          ]
        }
      ],
      "source": [
        "# Example list with duplicates\n",
        "my_list = [10, 20, 30, 20, 40, 10, 50, 30]\n",
        "\n",
        "# Remove duplicates by converting to a set and back to a list\n",
        "unique_list = set(my_list)\n",
        "\n",
        "# Print the list without duplicates\n",
        "print(\"List without duplicates:\", unique_list)"
      ]
    },
    {
      "cell_type": "markdown",
      "metadata": {
        "id": "s9u9bWmHfzQo"
      },
      "source": [
        "## 21. Find the common elements between two lists."
      ]
    },
    {
      "cell_type": "code",
      "execution_count": null,
      "metadata": {
        "colab": {
          "background_save": true,
          "base_uri": "https://localhost:8080/"
        },
        "id": "c8vJzI0Ci7UJ",
        "outputId": "b0b14f6c-158a-4c32-c240-4dc865f3f26b"
      },
      "outputs": [
        {
          "name": "stdout",
          "output_type": "stream",
          "text": [
            "The common elements in the two lists are: \n",
            "[5]\n"
          ]
        }
      ],
      "source": [
        "def common_member(a, b):\n",
        "\tresult = [i for i in a if i in b]\n",
        "\treturn result\n",
        "\n",
        "a = [1, 2, 3, 4, 5]\n",
        "b = [5, 6, 7, 8, 9]\n",
        "\n",
        "print(\"The common elements in the two lists are: \")\n",
        "print(common_member(a, b))\n"
      ]
    },
    {
      "cell_type": "markdown",
      "metadata": {
        "id": "mA5nWV2-jF_q"
      },
      "source": [
        "## 22. Find the difference between two lists."
      ]
    },
    {
      "cell_type": "code",
      "execution_count": null,
      "metadata": {
        "colab": {
          "background_save": true,
          "base_uri": "https://localhost:8080/"
        },
        "id": "tKw_7cGggrlg",
        "outputId": "61b48d20-52f3-4bc6-e194-2b3bebf919b1"
      },
      "outputs": [
        {
          "name": "stdout",
          "output_type": "stream",
          "text": [
            "Difference between lists: [20, 10]\n"
          ]
        }
      ],
      "source": [
        "# Example lists\n",
        "list1 = [10, 20, 30, 40, 50]\n",
        "list2 = [30, 40, 50, 60, 70]\n",
        "\n",
        "# Find the difference between lists using the difference() method\n",
        "difference = list(set(list1).difference(list2))\n",
        "\n",
        "# Print the difference\n",
        "print(\"Difference between lists:\", difference)"
      ]
    },
    {
      "cell_type": "markdown",
      "metadata": {
        "id": "k3BQLpys2b4d"
      },
      "source": [
        "## 23. Merge two lists."
      ]
    },
    {
      "cell_type": "code",
      "execution_count": null,
      "metadata": {
        "colab": {
          "background_save": true
        },
        "id": "EoQ8T1-52mGg"
      },
      "outputs": [],
      "source": [
        "l1 = [1,2,3,4,5]\n",
        "\n",
        "l2 = [6,7,8,9,10]\n",
        "\n"
      ]
    },
    {
      "cell_type": "code",
      "execution_count": null,
      "metadata": {
        "colab": {
          "background_save": true,
          "base_uri": "https://localhost:8080/"
        },
        "id": "QcWFkCAA21UQ",
        "outputId": "5775c196-3e89-4b92-cd71-a0d96b4242c2"
      },
      "outputs": [
        {
          "data": {
            "text/plain": [
              "[1, 2, 3, 4, 5, 6, 7, 8, 9, 10]"
            ]
          },
          "execution_count": 146,
          "metadata": {},
          "output_type": "execute_result"
        }
      ],
      "source": [
        "l1 + l2"
      ]
    },
    {
      "cell_type": "markdown",
      "metadata": {
        "id": "CWZMbx1p25w0"
      },
      "source": [
        "## 24. Multiply all elements in a list by 2."
      ]
    },
    {
      "cell_type": "code",
      "execution_count": null,
      "metadata": {
        "colab": {
          "background_save": true,
          "base_uri": "https://localhost:8080/"
        },
        "id": "YTW-BpSAgrZa",
        "outputId": "7c467183-59d4-4647-d26d-80137303f147"
      },
      "outputs": [
        {
          "name": "stdout",
          "output_type": "stream",
          "text": [
            "Multiplied list: [20, 40, 60, 80, 100]\n"
          ]
        }
      ],
      "source": [
        "\n",
        "my_list = [10, 20, 30, 40, 50]\n",
        "\n",
        "# Multiply all elements by 2 using a list comprehension\n",
        "multiplied_list = [x * 2 for x in my_list]\n",
        "\n",
        "# Print the multiplied list\n",
        "print(\"Multiplied list:\", multiplied_list)"
      ]
    },
    {
      "cell_type": "markdown",
      "metadata": {
        "id": "Er4zKLDy4W7u"
      },
      "source": [
        "## 25. Filter out all even numbers from a list."
      ]
    },
    {
      "cell_type": "code",
      "execution_count": null,
      "metadata": {
        "colab": {
          "background_save": true,
          "base_uri": "https://localhost:8080/"
        },
        "id": "dRNWoeQ94eO-",
        "outputId": "bca78c84-0764-492b-88db-39b5b858bb25"
      },
      "outputs": [
        {
          "name": "stdout",
          "output_type": "stream",
          "text": [
            "[2]\n",
            "[2, 4]\n"
          ]
        }
      ],
      "source": [
        "list = [1,2,3,4,5]\n",
        "\n",
        "#output list initialisation\n",
        "\n",
        "out = []\n",
        "\n",
        "for num in list:\n",
        "\n",
        "    if num % 2 == 0:\n",
        "\n",
        "        out.append(num)\n",
        "\n",
        "        print(out)"
      ]
    },
    {
      "cell_type": "markdown",
      "metadata": {
        "id": "Rsu-SdWr5fpn"
      },
      "source": [
        "## 26. Convert a list of strings to a list of integers."
      ]
    },
    {
      "cell_type": "code",
      "execution_count": null,
      "metadata": {
        "colab": {
          "background_save": true,
          "base_uri": "https://localhost:8080/"
        },
        "id": "gTMnFQ7agrWj",
        "outputId": "81938227-d9f6-4b51-d5b3-471cf1376893"
      },
      "outputs": [
        {
          "name": "stdout",
          "output_type": "stream",
          "text": [
            "List of integers: [10, 20, 30, 40, 50]\n"
          ]
        }
      ],
      "source": [
        "# Example list of strings\n",
        "string_list = [\"10\", \"20\", \"30\", \"40\", \"50\"]\n",
        "\n",
        "# Convert list of strings to list of integers using a list comprehension\n",
        "integer_list = [int(x) for x in string_list]\n",
        "\n",
        "# Print the list of integers\n",
        "print(\"List of integers:\", integer_list)"
      ]
    },
    {
      "cell_type": "markdown",
      "metadata": {
        "id": "0ZeXh5O06qwY"
      },
      "source": [
        "## 27. Convert a list of integers to a list of strings."
      ]
    },
    {
      "cell_type": "code",
      "execution_count": null,
      "metadata": {
        "colab": {
          "background_save": true,
          "base_uri": "https://localhost:8080/"
        },
        "id": "Ha1tu5VAgrRm",
        "outputId": "3a2abc21-d603-40d1-f1ea-d1aea270e8a1"
      },
      "outputs": [
        {
          "name": "stdout",
          "output_type": "stream",
          "text": [
            "List of strings: ['10', '20', '30', '40', '50']\n"
          ]
        }
      ],
      "source": [
        "# Example list of integers\n",
        "integer_list = [10, 20, 30, 40, 50]\n",
        "\n",
        "# Convert list of integers to list of strings using a list comprehension\n",
        "string_list = [str(x) for x in integer_list]\n",
        "\n",
        "# Print the list of strings\n",
        "print(\"List of strings:\", string_list)"
      ]
    },
    {
      "cell_type": "markdown",
      "metadata": {
        "id": "TK60FdZ-7MA5"
      },
      "source": [
        "## 28. Flatten a nested list."
      ]
    },
    {
      "cell_type": "code",
      "execution_count": null,
      "metadata": {
        "colab": {
          "background_save": true,
          "base_uri": "https://localhost:8080/"
        },
        "id": "3XAnkYNH8-Ym",
        "outputId": "707f041a-f857-4d0d-a53e-9ece628b5e09"
      },
      "outputs": [
        {
          "name": "stdout",
          "output_type": "stream",
          "text": [
            "[1]\n",
            "[1, 2]\n",
            "[1, 2, 3]\n",
            "[1, 2, 3, 4]\n",
            "[1, 2, 3, 4, 5]\n",
            "[1, 2, 3, 4, 5, 6]\n"
          ]
        }
      ],
      "source": [
        "l = [[1],[2,3],[4,5,6]]\n",
        "\n",
        "flatten_list = []\n",
        "\n",
        "for sublist in l:\n",
        "    for num in sublist:\n",
        "\n",
        "      flatten_list.append(num)\n",
        "\n",
        "      print(flatten_list)"
      ]
    },
    {
      "cell_type": "markdown",
      "metadata": {
        "id": "sFPZQgQc9sqQ"
      },
      "source": [
        "## 29. Create a list of the first 10 Fibonacci numbers."
      ]
    },
    {
      "cell_type": "code",
      "execution_count": null,
      "metadata": {
        "colab": {
          "background_save": true,
          "base_uri": "https://localhost:8080/"
        },
        "id": "7aAqEChcgrLi",
        "outputId": "58e2e213-20db-49e5-9b5f-e9dd5388bff7"
      },
      "outputs": [
        {
          "name": "stdout",
          "output_type": "stream",
          "text": [
            "First 10 Fibonacci numbers: [0, 1]\n"
          ]
        }
      ],
      "source": [
        "# Function to generate the first n Fibonacci numbers\n",
        "def generate_fibonacci(n):\n",
        "    fibonacci_list = [0, 1]  # Initialize the list with the first two Fibonacci numbers\n",
        "\n",
        "    for i in range(2, n):\n",
        "        next_fibonacci = fibonacci_list[i - 1] + fibonacci_list[i - 2]\n",
        "        fibonacci_list.append(next_fibonacci)\n",
        "\n",
        "    return fibonacci_list\n",
        "\n",
        "# Generate the first 10 Fibonacci numbers\n",
        "fibonacci_numbers = generate_fibonacci(2)\n",
        "\n",
        "# Print the list of Fibonacci numbers\n",
        "print(\"First 10 Fibonacci numbers:\", fibonacci_numbers)"
      ]
    },
    {
      "cell_type": "markdown",
      "metadata": {
        "id": "4Sad6rNV-DMD"
      },
      "source": [
        "## 30. Check if a list is sorted."
      ]
    },
    {
      "cell_type": "code",
      "execution_count": null,
      "metadata": {
        "colab": {
          "background_save": true,
          "base_uri": "https://localhost:8080/"
        },
        "id": "NNFBtpO-14Zx",
        "outputId": "84d46fd2-1417-4817-96b6-88f618c54bce"
      },
      "outputs": [
        {
          "name": "stdout",
          "output_type": "stream",
          "text": [
            "The list is sorted in ascending order.\n"
          ]
        }
      ],
      "source": [
        "# Function to check if a list is sorted in ascending order\n",
        "def is_sorted_ascending(lst):\n",
        "    for i in range(1, len(lst)):\n",
        "        if lst[i] < lst[i - 1]:\n",
        "            return False\n",
        "    return True\n",
        "\n",
        "# Example list\n",
        "ascending_list = [10, 20, 30, 40, 50]\n",
        "\n",
        "# Check if the list is sorted in ascending order\n",
        "if is_sorted_ascending(ascending_list):\n",
        "    print(\"The list is sorted in ascending order.\")\n",
        "else:\n",
        "    print(\"The list is not sorted in ascending order.\")"
      ]
    },
    {
      "cell_type": "markdown",
      "metadata": {
        "id": "f1Gx2NKd_JoJ"
      },
      "source": [
        "## 31. Rotate a list to the left by `n` positions."
      ]
    },
    {
      "cell_type": "code",
      "execution_count": null,
      "metadata": {
        "colab": {
          "background_save": true,
          "base_uri": "https://localhost:8080/"
        },
        "id": "HBM2P3fhgrHp",
        "outputId": "b3c4809e-883a-42d2-93eb-d6be1171a289"
      },
      "outputs": [
        {
          "name": "stdout",
          "output_type": "stream",
          "text": [
            "Rotated list: [3, 4, 5, 6, 1, 2]\n"
          ]
        }
      ],
      "source": [
        "# Function to rotate a list to the left by n positions\n",
        "def rotate_left(lst, n):\n",
        "    n = n % len(lst)  # Normalize n to handle cases where n is larger than the list length\n",
        "    # print(n)\n",
        "    rotated = lst[n:] + lst[:n]\n",
        "    return rotated\n",
        "\n",
        "# Example list\n",
        "my_list = [1, 2, 3, 4, 5, 6]\n",
        "\n",
        "# Number of positions to rotate by\n",
        "n = 2\n",
        "\n",
        "# Rotate the list to the left by n positions\n",
        "rotated_list = rotate_left(my_list, n)\n",
        "\n",
        "# Print the rotated list\n",
        "print(\"Rotated list:\", rotated_list)"
      ]
    },
    {
      "cell_type": "markdown",
      "metadata": {
        "id": "-U8kW4PB_2IP"
      },
      "source": [
        "## 32. Rotate a list to the right by `n` positions."
      ]
    },
    {
      "cell_type": "code",
      "execution_count": null,
      "metadata": {
        "colab": {
          "background_save": true,
          "base_uri": "https://localhost:8080/"
        },
        "id": "VXMNpkFMgrGt",
        "outputId": "0419de62-c453-4e18-9208-1b5721b2225e"
      },
      "outputs": [
        {
          "name": "stdout",
          "output_type": "stream",
          "text": [
            "Rotated list: [5, 6, 1, 2, 3, 4]\n"
          ]
        }
      ],
      "source": [
        "# Function to rotate a list to the right by n positions\n",
        "def rotate_right(lst, n):\n",
        "    n = n % len(lst)  # Normalize n to handle cases where n is larger than the list length\n",
        "    # print(n)\n",
        "    rotated = lst[-n:] + lst[:-n]\n",
        "    return rotated\n",
        "\n",
        "# Example list\n",
        "my_list = [1, 2, 3, 4, 5, 6]\n",
        "\n",
        "# Number of positions to rotate by\n",
        "n = 2\n",
        "\n",
        "# Rotate the list to the right by n positions\n",
        "rotated_list = rotate_right(my_list, n)\n",
        "\n",
        "# Print the rotated list\n",
        "print(\"Rotated list:\", rotated_list)"
      ]
    },
    {
      "cell_type": "markdown",
      "metadata": {
        "id": "6T7a2nH9ADZy"
      },
      "source": [
        "## 33. Create a list of prime numbers up to 50."
      ]
    },
    {
      "cell_type": "code",
      "execution_count": null,
      "metadata": {
        "colab": {
          "background_save": true,
          "base_uri": "https://localhost:8080/"
        },
        "id": "-B36MdHWgrA7",
        "outputId": "cb71d84b-5423-4ca5-a3f1-be09aac2a302"
      },
      "outputs": [
        {
          "name": "stdout",
          "output_type": "stream",
          "text": [
            "5 25\n",
            "5 29\n",
            "List of prime numbers up to 50: [2, 3, 5, 7, 11, 13, 17, 19, 23, 29]\n"
          ]
        }
      ],
      "source": [
        "# Function to check if a number is prime\n",
        "def is_prime(num):\n",
        "    if num <= 1:\n",
        "        return False\n",
        "    if num <= 3:\n",
        "        return True\n",
        "    if num % 2 == 0 or num % 3 == 0:\n",
        "        return False\n",
        "    i = 5\n",
        "    while i * i <= num:\n",
        "      print(i,num)\n",
        "      if num % i == 0 or num % (i + 2) == 0:\n",
        "          return False\n",
        "      i += 6\n",
        "    return True\n",
        "\n",
        "# Create a list of prime numbers up to 50\n",
        "prime_numbers = [num for num in range(2,30) if is_prime(num)]\n",
        "\n",
        "# Print the list of prime numbers\n",
        "print(\"List of prime numbers up to 50:\", prime_numbers)"
      ]
    },
    {
      "cell_type": "markdown",
      "metadata": {
        "id": "l7mgDQgQLfUN"
      },
      "source": [
        "## 34. Split a list into chunks of size `n`."
      ]
    },
    {
      "cell_type": "code",
      "execution_count": null,
      "metadata": {
        "colab": {
          "background_save": true,
          "base_uri": "https://localhost:8080/"
        },
        "id": "Z809WT0Agq-O",
        "outputId": "5f582cef-607b-46f0-a482-def5134b6235"
      },
      "outputs": [
        {
          "name": "stdout",
          "output_type": "stream",
          "text": [
            "List of prime numbers up to 50: [2, 3, 5, 7, 11, 13, 17, 19, 23, 29, 31, 37, 41, 43, 47]\n"
          ]
        }
      ],
      "source": [
        "# Create a list of prime numbers up to 50 using Sieve of Eratosthenes algorithm\n",
        "def sieve_of_eratosthenes(limit):\n",
        "    primes = []\n",
        "    is_prime = [True] * (limit + 1)\n",
        "    is_prime[0] = is_prime[1] = False\n",
        "\n",
        "    for num in range(2, int(limit ** 0.5) + 1):\n",
        "        if is_prime[num]:\n",
        "            primes.append(num)\n",
        "            for multiple in range(num * num, limit + 1, num):\n",
        "                is_prime[multiple] = False\n",
        "\n",
        "    for num in range(int(limit ** 0.5) + 1, limit + 1):\n",
        "        if is_prime[num]:\n",
        "            primes.append(num)\n",
        "\n",
        "    return primes\n",
        "\n",
        "# Create a list of prime numbers up to 50\n",
        "prime_numbers = sieve_of_eratosthenes(50)\n",
        "\n",
        "# Print the list of prime numbers\n",
        "print(\"List of prime numbers up to 50:\", prime_numbers)"
      ]
    },
    {
      "cell_type": "markdown",
      "metadata": {
        "id": "ukULVL8iMEnW"
      },
      "source": [
        "## 35. Find the second largest number in a list."
      ]
    },
    {
      "cell_type": "code",
      "execution_count": null,
      "metadata": {
        "colab": {
          "background_save": true,
          "base_uri": "https://localhost:8080/"
        },
        "id": "GCt4O2YVgq8Q",
        "outputId": "2329c1c8-c050-45a4-9076-950116f36311"
      },
      "outputs": [
        {
          "name": "stdout",
          "output_type": "stream",
          "text": [
            "Second largest number: 25\n"
          ]
        }
      ],
      "source": [
        "# Example list\n",
        "my_list = [10, 5, 20, 15, 30, 25]\n",
        "\n",
        "# Remove duplicates and sort the list in ascending order\n",
        "sorted_list = sorted(set(my_list))\n",
        "\n",
        "# Find the second largest number\n",
        "if len(sorted_list) >= 2:\n",
        "    second_largest = sorted_list[-2]\n",
        "    print(\"Second largest number:\", second_largest)\n",
        "else:\n",
        "    print(\"The list does not contain enough elements.\")"
      ]
    },
    {
      "cell_type": "markdown",
      "metadata": {
        "id": "d2KWc-wcOHc9"
      },
      "source": [
        "## 36. Replace every element in a list with its square."
      ]
    },
    {
      "cell_type": "code",
      "execution_count": null,
      "metadata": {
        "colab": {
          "background_save": true,
          "base_uri": "https://localhost:8080/"
        },
        "id": "zY-poGL6gq6y",
        "outputId": "6c6a44ea-58a4-43f6-c7cd-1ee2196ac3af"
      },
      "outputs": [
        {
          "name": "stdout",
          "output_type": "stream",
          "text": [
            "Squared list: [4, 16, 36, 64, 100]\n"
          ]
        }
      ],
      "source": [
        "# Example list\n",
        "my_list = [2, 4, 6, 8, 10]\n",
        "\n",
        "# Replace every element with its square using a list comprehension\n",
        "squared_list = [x ** 2 for x in my_list]\n",
        "\n",
        "# Print the squared list\n",
        "print(\"Squared list:\", squared_list)"
      ]
    },
    {
      "cell_type": "markdown",
      "metadata": {
        "id": "Ltym8H3tOYxe"
      },
      "source": [
        "## 37. Convert a list to a dictionary where list elements become keys and their\n",
        "indices become values."
      ]
    },
    {
      "cell_type": "code",
      "execution_count": null,
      "metadata": {
        "colab": {
          "background_save": true,
          "base_uri": "https://localhost:8080/"
        },
        "id": "inObYp3Egq53",
        "outputId": "2ba9d724-7699-4b68-b4d7-4e28bf8c073c"
      },
      "outputs": [
        {
          "name": "stdout",
          "output_type": "stream",
          "text": [
            "Converted dictionary: {'apple': 0, 'banana': 1, 'cherry': 2, 'date': 3, 'elderberry': 4}\n"
          ]
        }
      ],
      "source": [
        "# Example list\n",
        "my_list = ['apple', 'banana', 'cherry', 'date', 'elderberry']\n",
        "\n",
        "# Convert list to dictionary using dictionary comprehension\n",
        "my_dict = {element: index for index, element in enumerate(my_list)}\n",
        "\n",
        "# Print the resulting dictionary\n",
        "print(\"Converted dictionary:\", my_dict)"
      ]
    },
    {
      "cell_type": "markdown",
      "metadata": {
        "id": "U4mbNBVVOvs3"
      },
      "source": [
        "## 38. Shuffle the elements of a list randomly."
      ]
    },
    {
      "cell_type": "code",
      "execution_count": null,
      "metadata": {
        "colab": {
          "background_save": true,
          "base_uri": "https://localhost:8080/"
        },
        "id": "AaZ-FRgTgqzt",
        "outputId": "e16f38b8-c958-4d60-9046-2272a8aa617e"
      },
      "outputs": [
        {
          "name": "stdout",
          "output_type": "stream",
          "text": [
            "Shuffled list: [4, 5, 2, 3, 1, 6]\n"
          ]
        }
      ],
      "source": [
        "import random\n",
        "\n",
        "# Example list\n",
        "my_list = [1, 2, 3, 4, 5, 6]\n",
        "\n",
        "# Shuffle the list randomly\n",
        "random.shuffle(my_list)\n",
        "\n",
        "# Print the shuffled list\n",
        "print(\"Shuffled list:\", my_list)"
      ]
    },
    {
      "cell_type": "markdown",
      "metadata": {
        "id": "TDCJZS8XPwDh"
      },
      "source": [
        "## 39. Create a list of the first 10 factorial numbers."
      ]
    },
    {
      "cell_type": "code",
      "execution_count": null,
      "metadata": {
        "colab": {
          "background_save": true,
          "base_uri": "https://localhost:8080/"
        },
        "id": "MIJJ6FwAgqw7",
        "outputId": "581f9c08-273c-4252-b4db-8f1a90f069fe"
      },
      "outputs": [
        {
          "name": "stdout",
          "output_type": "stream",
          "text": [
            "List of the first 10 factorial numbers: [1, 1, 2, 6, 24, 120, 720, 5040, 40320, 362880]\n"
          ]
        }
      ],
      "source": [
        "# Function to calculate factorial\n",
        "def factorial(n):\n",
        "    if n == 0 or n == 1:\n",
        "        return 1\n",
        "    else:\n",
        "        return n * factorial(n - 1)\n",
        "\n",
        "# Create a list of the first 10 factorial numbers\n",
        "factorial_numbers = [factorial(i) for i in range(10)]\n",
        "\n",
        "# Print the list of factorial numbers\n",
        "print(\"List of the first 10 factorial numbers:\", factorial_numbers)"
      ]
    },
    {
      "cell_type": "markdown",
      "metadata": {
        "id": "fB7SSmWoP-MY"
      },
      "source": [
        "## 40. Check if two lists have at least one element in common."
      ]
    },
    {
      "cell_type": "code",
      "execution_count": null,
      "metadata": {
        "colab": {
          "background_save": true,
          "base_uri": "https://localhost:8080/"
        },
        "id": "ngXCSqEhQKJA",
        "outputId": "8524ce4c-84d2-4fad-b081-11afa36bc055"
      },
      "outputs": [
        {
          "name": "stdout",
          "output_type": "stream",
          "text": [
            "The common elements in the two lists are: \n",
            "[5]\n"
          ]
        }
      ],
      "source": [
        "def common_member(a, b):\n",
        "\tresult = [i for i in a if i in b]\n",
        "\treturn result\n",
        "\n",
        "a = [1, 2, 3, 4, 5]\n",
        "b = [5, 6, 7, 8, 9]\n",
        "\n",
        "print(\"The common elements in the two lists are: \")\n",
        "print(common_member(a, b))\n"
      ]
    },
    {
      "cell_type": "markdown",
      "metadata": {
        "id": "HOqa0n_dRp8f"
      },
      "source": [
        "## 41. Remove all elements from a list."
      ]
    },
    {
      "cell_type": "code",
      "execution_count": null,
      "metadata": {
        "colab": {
          "background_save": true
        },
        "id": "kLRQ5LZoSACT"
      },
      "outputs": [],
      "source": [
        "l = [1,2,3,4,5]"
      ]
    },
    {
      "cell_type": "code",
      "execution_count": null,
      "metadata": {
        "colab": {
          "background_save": true
        },
        "id": "_DoHqXumSF-g"
      },
      "outputs": [],
      "source": [
        "l.clear()"
      ]
    },
    {
      "cell_type": "code",
      "execution_count": null,
      "metadata": {
        "colab": {
          "background_save": true,
          "base_uri": "https://localhost:8080/"
        },
        "id": "qV6YKPbtSqgv",
        "outputId": "cba990fa-be68-4fad-fe39-eba21702fa16"
      },
      "outputs": [
        {
          "data": {
            "text/plain": [
              "[]"
            ]
          },
          "execution_count": 166,
          "metadata": {},
          "output_type": "execute_result"
        }
      ],
      "source": [
        "l"
      ]
    },
    {
      "cell_type": "markdown",
      "metadata": {
        "id": "Gic6sstZSvWe"
      },
      "source": [
        "## 42. Replace negative numbers in a list with 0."
      ]
    },
    {
      "cell_type": "code",
      "execution_count": null,
      "metadata": {
        "colab": {
          "background_save": true,
          "base_uri": "https://localhost:8080/"
        },
        "id": "K9f2CpQggqpt",
        "outputId": "0210320d-8bfe-4878-ed92-5ce27fcaa7c4"
      },
      "outputs": [
        {
          "name": "stdout",
          "output_type": "stream",
          "text": [
            "List after replacing negative numbers with 0: [10, 0, 20, 0, 30, 0]\n"
          ]
        }
      ],
      "source": [
        "# Example list\n",
        "my_list = [10, -5, 20, -15, 30, -25]\n",
        "\n",
        "# Step 1: Iterate through the list and replace negative numbers with 0\n",
        "for i in range(len(my_list)):\n",
        "    if my_list[i] < 0:\n",
        "        my_list[i] = 0\n",
        "\n",
        "# Print the list after replacing negative numbers with 0\n",
        "print(\"List after replacing negative numbers with 0:\", my_list)"
      ]
    },
    {
      "cell_type": "markdown",
      "metadata": {
        "id": "UddUnIzIU5i3"
      },
      "source": [
        "## 43. Convert a string into a list of words."
      ]
    },
    {
      "cell_type": "code",
      "execution_count": null,
      "metadata": {
        "colab": {
          "background_save": true
        },
        "id": "5s9jOHe8VEVB"
      },
      "outputs": [],
      "source": [
        "s = 'my name is muskan'"
      ]
    },
    {
      "cell_type": "code",
      "execution_count": null,
      "metadata": {
        "colab": {
          "background_save": true
        },
        "id": "XKpiSyT8VUU0"
      },
      "outputs": [],
      "source": [
        "l1 = s.split()"
      ]
    },
    {
      "cell_type": "code",
      "execution_count": null,
      "metadata": {
        "colab": {
          "background_save": true,
          "base_uri": "https://localhost:8080/"
        },
        "id": "oi4cxM5iV3__",
        "outputId": "a7d119d5-4619-4e98-9a91-e321e43d5940"
      },
      "outputs": [
        {
          "data": {
            "text/plain": [
              "['my', 'name', 'is', 'muskan']"
            ]
          },
          "execution_count": 170,
          "metadata": {},
          "output_type": "execute_result"
        }
      ],
      "source": [
        "l1"
      ]
    },
    {
      "cell_type": "markdown",
      "metadata": {
        "id": "yFW0gp84V7vD"
      },
      "source": [
        "## 44. Convert a list of words into a string."
      ]
    },
    {
      "cell_type": "code",
      "execution_count": null,
      "metadata": {
        "colab": {
          "background_save": true,
          "base_uri": "https://localhost:8080/"
        },
        "id": "gVvJDgA9gqjY",
        "outputId": "7de5c219-cef9-4ff8-918a-524af542af07"
      },
      "outputs": [
        {
          "name": "stdout",
          "output_type": "stream",
          "text": [
            "Converted string: Hello, this is a sample sentence.\n"
          ]
        }
      ],
      "source": [
        "# Example list of words\n",
        "word_list = [\"Hello,\", \"this\", \"is\", \"a\", \"sample\", \"sentence.\"]\n",
        "\n",
        "# Convert the list of words into a string\n",
        "my_string = \" \".join(word_list)\n",
        "\n",
        "# Print the resulting string\n",
        "print(\"Converted string:\", my_string)"
      ]
    },
    {
      "cell_type": "markdown",
      "metadata": {
        "id": "vuUV78Y-Wo1G"
      },
      "source": [
        "## 45. Create a list of the first `n` powers of 2."
      ]
    },
    {
      "cell_type": "code",
      "execution_count": null,
      "metadata": {
        "colab": {
          "background_save": true,
          "base_uri": "https://localhost:8080/"
        },
        "id": "PR06D_qlgqg1",
        "outputId": "1491a52c-a5a9-43a4-a761-505dbf7f6ebe"
      },
      "outputs": [
        {
          "name": "stdout",
          "output_type": "stream",
          "text": [
            "List of the first 5 powers of 2: [1, 2, 4, 8, 16]\n"
          ]
        }
      ],
      "source": [
        "# Specify the value of n\n",
        "n = 5\n",
        "\n",
        "# Create a list of the first n powers of 2 using a loop\n",
        "power_list = [2 ** i for i in range(n)]\n",
        "\n",
        "# Print the list of powers of 2\n",
        "print(\"List of the first\", n, \"powers of 2:\", power_list)"
      ]
    },
    {
      "cell_type": "markdown",
      "metadata": {
        "id": "Vkz5BiddXCHd"
      },
      "source": [
        "## 46. Find the longest string in a list of strings."
      ]
    },
    {
      "cell_type": "code",
      "execution_count": null,
      "metadata": {
        "colab": {
          "background_save": true,
          "base_uri": "https://localhost:8080/"
        },
        "id": "ktoukRUQgpMZ",
        "outputId": "43c6c326-fec9-4649-8e05-2444907a7e81"
      },
      "outputs": [
        {
          "name": "stdout",
          "output_type": "stream",
          "text": [
            "Longest string: muskan\n"
          ]
        }
      ],
      "source": [
        "# Example list of strings\n",
        "string_list = [\"my \", \"name\", \"is\", \"muskan\", \"sharma\"]\n",
        "\n",
        "# Find the longest string in the list\n",
        "longest_string = \"\"\n",
        "for s in string_list:\n",
        "    if len(s) > len(longest_string):\n",
        "        longest_string = s\n",
        "\n",
        "# Print the longest string\n",
        "print(\"Longest string:\", longest_string)"
      ]
    },
    {
      "cell_type": "markdown",
      "metadata": {
        "id": "a9m7EokXXokT"
      },
      "source": [
        "## 47. Find the shortest string in a list of strings."
      ]
    },
    {
      "cell_type": "code",
      "execution_count": null,
      "metadata": {
        "colab": {
          "background_save": true,
          "base_uri": "https://localhost:8080/"
        },
        "id": "VwxeF-Ch2b52",
        "outputId": "f903833f-5360-477b-c29c-97acf81e552f"
      },
      "outputs": [
        {
          "name": "stdout",
          "output_type": "stream",
          "text": [
            "Shortest string: is\n"
          ]
        }
      ],
      "source": [
        "# Example list of strings\n",
        "string_list = [\"my \", \"name\", \"is\", \"anurag\", \"sharma\"]\n",
        "\n",
        "# Find the shortest string in the list\n",
        "shortest_string = string_list[0]  # Initialize with the first string\n",
        "for s in string_list:\n",
        "    if len(s) < len(shortest_string):\n",
        "        shortest_string = s\n",
        "\n",
        "# Print the shortest string\n",
        "print(\"Shortest string:\", shortest_string)"
      ]
    },
    {
      "cell_type": "markdown",
      "metadata": {
        "id": "KSC7yiazYApk"
      },
      "source": [
        "## 48. Create a list of the first `n` triangular numbers."
      ]
    },
    {
      "cell_type": "code",
      "execution_count": null,
      "metadata": {
        "colab": {
          "background_save": true,
          "base_uri": "https://localhost:8080/"
        },
        "id": "Z0UxtOl62eQL",
        "outputId": "f50e09a3-1a10-486e-b6d7-cdad5faa556b"
      },
      "outputs": [
        {
          "name": "stdout",
          "output_type": "stream",
          "text": [
            "List of the first 5 triangular numbers: [1, 3, 6, 10, 15]\n"
          ]
        }
      ],
      "source": [
        "# Function to calculate triangular numbers\n",
        "def triangular_numbers(n):\n",
        "    return [i * (i + 1) // 2 for i in range(1, n + 1)]\n",
        "\n",
        "# Specify the value of n\n",
        "n = 5\n",
        "\n",
        "# Create a list of the first n triangular numbers\n",
        "triangular_list = triangular_numbers(n)\n",
        "\n",
        "# Print the list of triangular numbers\n",
        "print(\"List of the first\", n, \"triangular numbers:\", triangular_list)"
      ]
    },
    {
      "cell_type": "markdown",
      "metadata": {
        "id": "owzo34PEYVoG"
      },
      "source": [
        "## 49. Check if a list contains another list as a subsequence."
      ]
    },
    {
      "cell_type": "code",
      "execution_count": null,
      "metadata": {
        "colab": {
          "background_save": true,
          "base_uri": "https://localhost:8080/"
        },
        "id": "wR0rTeG32eNu",
        "outputId": "ac035250-144c-4d94-a826-28296fd26586"
      },
      "outputs": [
        {
          "name": "stdout",
          "output_type": "stream",
          "text": [
            "Main list contains the subsequence.\n"
          ]
        }
      ],
      "source": [
        "# Function to check if a list contains another list as a subsequence\n",
        "def is_subsequence(subsequence, main_list):\n",
        "    subseq_index = 0  # Index for the subsequence elements\n",
        "    for element in main_list:\n",
        "        if element == subsequence[subseq_index]:\n",
        "            subseq_index += 1\n",
        "            if subseq_index == len(subsequence):\n",
        "                return True\n",
        "    return False\n",
        "\n",
        "# Example main list and subsequence\n",
        "main_list = [1, 2, 3, 4, 5, 6, 7, 8, 9, 10]\n",
        "subsequence = [3, 5, 8]\n",
        "\n",
        "# Check if the main list contains the subsequence\n",
        "if is_subsequence(subsequence, main_list):\n",
        "    print(\"Main list contains the subsequence.\")\n",
        "else:\n",
        "    print(\"Main list does not contain the subsequence.\")"
      ]
    },
    {
      "cell_type": "markdown",
      "metadata": {
        "id": "1xOegJpGIv04"
      },
      "source": [
        "## 50. Swap two elements in a list by their indices."
      ]
    },
    {
      "cell_type": "code",
      "execution_count": null,
      "metadata": {
        "colab": {
          "background_save": true,
          "base_uri": "https://localhost:8080/"
        },
        "id": "A0JHpP9c2eLL",
        "outputId": "29ba7a8e-1f9f-4318-9f07-a77b044e90d1"
      },
      "outputs": [
        {
          "name": "stdout",
          "output_type": "stream",
          "text": [
            "List after swapping elements: [1, 4, 3, 2, 5]\n"
          ]
        }
      ],
      "source": [
        "# Example list\n",
        "my_list = [1, 2, 3, 4, 5]\n",
        "\n",
        "# Indices of elements to swap\n",
        "index1 = 1\n",
        "index2 = 3\n",
        "\n",
        "# Swap the elements at the specified indices\n",
        "temp = my_list[index1]\n",
        "my_list[index1] = my_list[index2]\n",
        "my_list[index2] = temp\n",
        "\n",
        "# Print the list after swapping\n",
        "print(\"List after swapping elements:\", my_list)"
      ]
    },
    {
      "cell_type": "markdown",
      "metadata": {
        "id": "Qxp8T-tZJ-Hb"
      },
      "source": [
        "# **Tuple Based Practice Problem :**"
      ]
    },
    {
      "cell_type": "markdown",
      "metadata": {
        "id": "Q71tHgGsKKvJ"
      },
      "source": [
        "## 1. Create a tuple with integers from 1 to 5."
      ]
    },
    {
      "cell_type": "code",
      "execution_count": null,
      "metadata": {
        "colab": {
          "background_save": true
        },
        "id": "42YD6hFdKTGG"
      },
      "outputs": [],
      "source": [
        "# tuple with integers 1 to 5\n",
        "\n",
        "t = (1,2,3,4,5)"
      ]
    },
    {
      "cell_type": "code",
      "execution_count": null,
      "metadata": {
        "colab": {
          "background_save": true,
          "base_uri": "https://localhost:8080/"
        },
        "id": "u3HugNp6LfiC",
        "outputId": "956f73a4-cabc-4058-a727-9e9d82828c11"
      },
      "outputs": [
        {
          "data": {
            "text/plain": [
              "tuple"
            ]
          },
          "execution_count": 179,
          "metadata": {},
          "output_type": "execute_result"
        }
      ],
      "source": [
        "type(t)"
      ]
    },
    {
      "cell_type": "markdown",
      "metadata": {
        "id": "9hR-PRI3LizB"
      },
      "source": [
        "## 2. Access the third element of a tuple."
      ]
    },
    {
      "cell_type": "code",
      "execution_count": null,
      "metadata": {
        "colab": {
          "background_save": true,
          "base_uri": "https://localhost:8080/"
        },
        "id": "1__Jby9pLuzo",
        "outputId": "e267020d-1305-4a37-ad5c-58775edd2d5c"
      },
      "outputs": [
        {
          "name": "stdout",
          "output_type": "stream",
          "text": [
            "the third element is: 30\n"
          ]
        }
      ],
      "source": [
        "t = (10,20,30,40,50)\n",
        "\n",
        "third_element = t[2]\n",
        "\n",
        "print(\"the third element is:\",third_element)\n"
      ]
    },
    {
      "cell_type": "markdown",
      "metadata": {
        "id": "4zJdbLpxOXCS"
      },
      "source": [
        "## 3. Find the length of a tuple without using the `len()` function."
      ]
    },
    {
      "cell_type": "code",
      "execution_count": null,
      "metadata": {
        "colab": {
          "background_save": true,
          "base_uri": "https://localhost:8080/"
        },
        "id": "s4Y1j7mCADvx",
        "outputId": "11752ace-ba59-43a3-e51d-dec7eaad28db"
      },
      "outputs": [
        {
          "name": "stdout",
          "output_type": "stream",
          "text": [
            "The length of the tuple is: 5\n"
          ]
        }
      ],
      "source": [
        "# Step 1: Create a tuple\n",
        "my_tuple = (10, 20, 30, 40, 50)\n",
        "\n",
        "# Step 2: Initialize a variable to count the elements\n",
        "count = 0\n",
        "\n",
        "# Step 3: Iterate through the tuple and increment the count for each element\n",
        "for _ in my_tuple:\n",
        "    count += 1\n",
        "\n",
        "# Step 4: Print the length of the tuple\n",
        "print(\"The length of the tuple is:\", count)"
      ]
    },
    {
      "cell_type": "markdown",
      "metadata": {
        "id": "2uUcGUJMQhA7"
      },
      "source": [
        "## 4. Count the occurrences of an element in a tuple."
      ]
    },
    {
      "cell_type": "code",
      "execution_count": null,
      "metadata": {
        "colab": {
          "background_save": true
        },
        "id": "l0hYP81LQsL3"
      },
      "outputs": [],
      "source": [
        "t = (1,2,3,3,4,5,6,3,7,3,8,9)"
      ]
    },
    {
      "cell_type": "code",
      "execution_count": null,
      "metadata": {
        "colab": {
          "background_save": true,
          "base_uri": "https://localhost:8080/"
        },
        "id": "3eZt88hkQzYk",
        "outputId": "938f443f-7f82-4b44-f69d-6b8dd19d1367"
      },
      "outputs": [
        {
          "data": {
            "text/plain": [
              "4"
            ]
          },
          "execution_count": 183,
          "metadata": {},
          "output_type": "execute_result"
        }
      ],
      "source": [
        "t.count(3)"
      ]
    },
    {
      "cell_type": "markdown",
      "metadata": {
        "id": "Fg24-i_gRSbV"
      },
      "source": [
        "## 5. Find the index of the first occurrence of an element in a tuple."
      ]
    },
    {
      "cell_type": "code",
      "execution_count": null,
      "metadata": {
        "colab": {
          "background_save": true
        },
        "id": "kvz-nMXQRe6i"
      },
      "outputs": [],
      "source": [
        "t = (1,3,3,4,5,6,7,8,9)"
      ]
    },
    {
      "cell_type": "code",
      "execution_count": null,
      "metadata": {
        "colab": {
          "background_save": true,
          "base_uri": "https://localhost:8080/"
        },
        "id": "r2ruDK0sSD6N",
        "outputId": "18fb5260-cd42-45e8-9a1d-edcacac5e669"
      },
      "outputs": [
        {
          "data": {
            "text/plain": [
              "1"
            ]
          },
          "execution_count": 185,
          "metadata": {},
          "output_type": "execute_result"
        }
      ],
      "source": [
        "t.index(3)"
      ]
    },
    {
      "cell_type": "markdown",
      "metadata": {
        "id": "yqKf9w5fS29d"
      },
      "source": [
        "## 6. Check if an element exists in a tuple."
      ]
    },
    {
      "cell_type": "code",
      "execution_count": null,
      "metadata": {
        "colab": {
          "background_save": true,
          "base_uri": "https://localhost:8080/"
        },
        "id": "hgbPvWp4A5tX",
        "outputId": "1808e1b2-8714-4c86-fc00-c9ea5a4f4be6"
      },
      "outputs": [
        {
          "name": "stdout",
          "output_type": "stream",
          "text": [
            "30 exists in the tuple.\n"
          ]
        }
      ],
      "source": [
        "# Step 1: Create a tuple\n",
        "my_tuple = (10, 20, 30, 40, 50)\n",
        "\n",
        "# Step 2: Choose the element to check for existence\n",
        "element_to_check = 30\n",
        "\n",
        "# Step 3: Check if the element exists in the tuple using the 'in' operator\n",
        "if element_to_check in my_tuple:\n",
        "    print(f\"{element_to_check} exists in the tuple.\")\n",
        "else:\n",
        "    print(f\"{element_to_check} does not exist in the tuple.\")"
      ]
    },
    {
      "cell_type": "markdown",
      "metadata": {
        "id": "8JegrwT1UvAr"
      },
      "source": [
        "## 7. Convert a tuple to a list."
      ]
    },
    {
      "cell_type": "code",
      "execution_count": null,
      "metadata": {
        "colab": {
          "background_save": true,
          "base_uri": "https://localhost:8080/"
        },
        "id": "8T5tq0tPU3JD",
        "outputId": "ce927767-e143-4385-a97e-3e42b473f570"
      },
      "outputs": [
        {
          "ename": "TypeError",
          "evalue": "ignored",
          "output_type": "error",
          "traceback": [
            "\u001b[0;31m---------------------------------------------------------------------------\u001b[0m",
            "\u001b[0;31mTypeError\u001b[0m                                 Traceback (most recent call last)",
            "\u001b[0;32m<ipython-input-188-59528034ea1d>\u001b[0m in \u001b[0;36m<cell line: 3>\u001b[0;34m()\u001b[0m\n\u001b[1;32m      1\u001b[0m \u001b[0mt\u001b[0m \u001b[0;34m=\u001b[0m \u001b[0;34m(\u001b[0m\u001b[0;36m1\u001b[0m\u001b[0;34m,\u001b[0m\u001b[0;36m2\u001b[0m\u001b[0;34m,\u001b[0m\u001b[0;36m3\u001b[0m\u001b[0;34m,\u001b[0m\u001b[0;36m4\u001b[0m\u001b[0;34m,\u001b[0m\u001b[0;36m5\u001b[0m\u001b[0;34m)\u001b[0m\u001b[0;34m\u001b[0m\u001b[0;34m\u001b[0m\u001b[0m\n\u001b[1;32m      2\u001b[0m \u001b[0;34m\u001b[0m\u001b[0m\n\u001b[0;32m----> 3\u001b[0;31m \u001b[0mmy_list\u001b[0m \u001b[0;34m=\u001b[0m \u001b[0mlist\u001b[0m\u001b[0;34m(\u001b[0m\u001b[0mt\u001b[0m\u001b[0;34m)\u001b[0m\u001b[0;34m\u001b[0m\u001b[0;34m\u001b[0m\u001b[0m\n\u001b[0m\u001b[1;32m      4\u001b[0m \u001b[0;34m\u001b[0m\u001b[0m\n\u001b[1;32m      5\u001b[0m \u001b[0mprint\u001b[0m\u001b[0;34m(\u001b[0m\u001b[0;34m'tuple:'\u001b[0m\u001b[0;34m,\u001b[0m\u001b[0mt\u001b[0m\u001b[0;34m)\u001b[0m\u001b[0;34m\u001b[0m\u001b[0;34m\u001b[0m\u001b[0m\n",
            "\u001b[0;31mTypeError\u001b[0m: 'list' object is not callable"
          ]
        }
      ],
      "source": [
        "t = (1,2,3,4,5)\n",
        "\n",
        "my_list = list(t)\n",
        "\n",
        "print('tuple:',t)\n",
        "print('list:',my_list)"
      ]
    },
    {
      "cell_type": "markdown",
      "metadata": {
        "id": "V-5UwtzmWbP6"
      },
      "source": [
        "## 8. Convert a list to a tuple."
      ]
    },
    {
      "cell_type": "code",
      "execution_count": null,
      "metadata": {
        "colab": {
          "background_save": true
        },
        "id": "v7je0u_Obntv"
      },
      "outputs": [],
      "source": []
    },
    {
      "cell_type": "markdown",
      "metadata": {
        "id": "3I3UK0brbwkm"
      },
      "source": [
        "## 9. Unpack the elements of a tuple into variables."
      ]
    },
    {
      "cell_type": "code",
      "execution_count": null,
      "metadata": {
        "colab": {
          "background_save": true
        },
        "id": "JjDFgPdWBxZC"
      },
      "outputs": [],
      "source": [
        "# Step 1: Create a tuple\n",
        "my_tuple = (10, 20, 30)\n",
        "\n",
        "# Step 2: Unpack the elements of the tuple into variables\n",
        "var1, var2, var3 = my_tuple\n",
        "\n",
        "# Step 3: Print the variables\n",
        "print(\"var1:\", var1)\n",
        "print(\"var2:\", var2)\n",
        "print(\"var3:\", var3)"
      ]
    },
    {
      "cell_type": "markdown",
      "metadata": {
        "id": "ixHE6Cr8cD5n"
      },
      "source": [
        "## 10. Create a tuple of even numbers from 1 to 10."
      ]
    },
    {
      "cell_type": "code",
      "execution_count": null,
      "metadata": {
        "colab": {
          "background_save": true
        },
        "id": "ZsN1yEDYCCmz"
      },
      "outputs": [],
      "source": [
        "# Step 1: Create a list of even numbers using a list comprehension\n",
        "even_numbers_list = [num for num in range(2, 11, 2)]  # Start from 2, step by 2, end at 10\n",
        "\n",
        "# Step 2: Convert the list to a tuple\n",
        "even_numbers_tuple = tuple(even_numbers_list)\n",
        "\n",
        "# Step 3: Print the resulting tuple\n",
        "print(\"Tuple of even numbers:\", even_numbers_tuple)"
      ]
    },
    {
      "cell_type": "markdown",
      "metadata": {
        "id": "etjVLpPccbK0"
      },
      "source": [
        "## 11. Create a tuple of odd numbers from 1 to 10."
      ]
    },
    {
      "cell_type": "code",
      "execution_count": null,
      "metadata": {
        "colab": {
          "background_save": true
        },
        "id": "9R-W6vXWCQCI"
      },
      "outputs": [],
      "source": [
        "# Step 1: Create a list of even numbers using a list comprehension\n",
        "odd_numbers_list = [num for num in range(1, 11, 2)]  # Start from 2, step by 2, end at 10\n",
        "\n",
        "# Step 2: Convert the list to a tuple\n",
        "odd_numbers_tuple = tuple(odd_numbers_list)\n",
        "\n",
        "# Step 3: Print the resulting tuple\n",
        "print(\"Tuple of odd numbers:\", odd_numbers_tuple)"
      ]
    },
    {
      "cell_type": "markdown",
      "metadata": {
        "id": "2L7hTd_cdlgK"
      },
      "source": [
        "## 12. Concatenate two tuples."
      ]
    },
    {
      "cell_type": "code",
      "execution_count": null,
      "metadata": {
        "colab": {
          "background_save": true
        },
        "id": "LDsPHksldsto"
      },
      "outputs": [],
      "source": [
        "t1 = (1,2,3)"
      ]
    },
    {
      "cell_type": "code",
      "execution_count": null,
      "metadata": {
        "colab": {
          "background_save": true
        },
        "id": "WBQZFhGnd2ny"
      },
      "outputs": [],
      "source": [
        "t2 = (4,5,6)"
      ]
    },
    {
      "cell_type": "code",
      "execution_count": null,
      "metadata": {
        "colab": {
          "background_save": true,
          "base_uri": "https://localhost:8080/"
        },
        "id": "rsJRxsIxd6H2",
        "outputId": "1b1b90f4-5fbb-41fa-e5b0-8561e77cb1ca"
      },
      "outputs": [
        {
          "data": {
            "text/plain": [
              "(1, 2, 3, 4, 5, 6)"
            ]
          },
          "execution_count": 195,
          "metadata": {},
          "output_type": "execute_result"
        }
      ],
      "source": [
        "t1 + t2"
      ]
    },
    {
      "cell_type": "markdown",
      "metadata": {
        "id": "bY3e4EOHeBnl"
      },
      "source": [
        "## 13. Repeat a tuple three times."
      ]
    },
    {
      "cell_type": "code",
      "execution_count": null,
      "metadata": {
        "colab": {
          "background_save": true
        },
        "id": "QKDkvroLeJAQ"
      },
      "outputs": [],
      "source": [
        "t = (1,2,3,4,5)"
      ]
    },
    {
      "cell_type": "code",
      "execution_count": null,
      "metadata": {
        "colab": {
          "background_save": true
        },
        "id": "XC6UI7eYeQ7b"
      },
      "outputs": [],
      "source": [
        "t * 3"
      ]
    },
    {
      "cell_type": "markdown",
      "metadata": {
        "id": "CesiXQyceVAc"
      },
      "source": [
        "## 14. Check if a tuple is empty."
      ]
    },
    {
      "cell_type": "code",
      "execution_count": null,
      "metadata": {
        "colab": {
          "background_save": true
        },
        "id": "KnupOMgfC4RQ"
      },
      "outputs": [],
      "source": [
        "# Step 1: Create an empty tuple and a non-empty tuple\n",
        "empty_tuple = ()\n",
        "non_empty_tuple = (1, 2, 3)\n",
        "\n",
        "# Step 2: Check if the tuples are empty\n",
        "if not empty_tuple:\n",
        "    print(\"The empty_tuple is empty.\")\n",
        "else:\n",
        "    print(\"The empty_tuple is not empty.\")\n"
      ]
    },
    {
      "cell_type": "markdown",
      "metadata": {
        "id": "ZpqYhLEJe2z4"
      },
      "source": [
        "## 15. Create a nested tuple."
      ]
    },
    {
      "cell_type": "code",
      "execution_count": null,
      "metadata": {
        "colab": {
          "background_save": true
        },
        "id": "Gm3PwRehDOos"
      },
      "outputs": [],
      "source": [
        "# Step 1: Create a nested tuple\n",
        "nested_tuple = ((1, 2, 3), ('a', 'b', 'c'), (True, False))\n",
        "\n",
        "# Step 2: Print the nested tuple\n",
        "print(\"Nested tuple:\", nested_tuple)"
      ]
    },
    {
      "cell_type": "markdown",
      "metadata": {
        "id": "fpId4LDRfGU1"
      },
      "source": [
        "## 16. Access the first element of a nested tuple."
      ]
    },
    {
      "cell_type": "code",
      "execution_count": null,
      "metadata": {
        "colab": {
          "background_save": true
        },
        "id": "xuAflJKCDlrL"
      },
      "outputs": [],
      "source": [
        "# Step 1: Create a nested tuple\n",
        "nested_tuple = ((1, 2, 3), ('a', 'b', 'c'), (True, False))\n",
        "\n",
        "# Step 2: Access the first element of the nested tuple\n",
        "first_element = nested_tuple[0]\n",
        "\n",
        "# Step 3: Print the first element\n",
        "print(\"First element of the nested tuple:\", first_element)"
      ]
    },
    {
      "cell_type": "markdown",
      "metadata": {
        "id": "JarXmYbPfbE7"
      },
      "source": [
        "## 17. Create a tuple with a single element."
      ]
    },
    {
      "cell_type": "code",
      "execution_count": null,
      "metadata": {
        "colab": {
          "background_save": true
        },
        "id": "JPibK2ElfgTN"
      },
      "outputs": [],
      "source": [
        "t = (42,)\n",
        "\n",
        "print('single element tuple:',t)"
      ]
    },
    {
      "cell_type": "markdown",
      "metadata": {
        "id": "bMN7qb07sZcD"
      },
      "source": [
        "## 18. Compare two tuples."
      ]
    },
    {
      "cell_type": "code",
      "execution_count": null,
      "metadata": {
        "colab": {
          "background_save": true
        },
        "id": "S5li7TdQsjjz"
      },
      "outputs": [],
      "source": [
        "t1 = (1,2,3)\n",
        "\n",
        "t2 = (1,3,4)"
      ]
    },
    {
      "cell_type": "code",
      "execution_count": null,
      "metadata": {
        "colab": {
          "background_save": true
        },
        "id": "cuFrhJGIszXD"
      },
      "outputs": [],
      "source": [
        "#now compare the tuples\n",
        "\n",
        "t1 == t2      #equality check\n"
      ]
    },
    {
      "cell_type": "code",
      "execution_count": null,
      "metadata": {
        "colab": {
          "background_save": true
        },
        "id": "uFS_ZIZ-tfpu"
      },
      "outputs": [],
      "source": [
        "t1 > t2      #greater than check"
      ]
    },
    {
      "cell_type": "code",
      "execution_count": null,
      "metadata": {
        "colab": {
          "background_save": true
        },
        "id": "0rwx4QT6tq_y"
      },
      "outputs": [],
      "source": [
        "t1 < t2     #less than check"
      ]
    },
    {
      "cell_type": "code",
      "execution_count": null,
      "metadata": {
        "colab": {
          "background_save": true
        },
        "id": "AOyqmVUptwOf"
      },
      "outputs": [],
      "source": [
        "t1 != t2    #inequality check"
      ]
    },
    {
      "cell_type": "code",
      "execution_count": null,
      "metadata": {
        "colab": {
          "background_save": true
        },
        "id": "Ae27eiAIuM4c"
      },
      "outputs": [],
      "source": [
        "t1 >= t2    #greater than equal check"
      ]
    },
    {
      "cell_type": "code",
      "execution_count": null,
      "metadata": {
        "colab": {
          "background_save": true
        },
        "id": "pHoV6hBYuU3s"
      },
      "outputs": [],
      "source": [
        "t1 <= t2    #less than equal check"
      ]
    },
    {
      "cell_type": "markdown",
      "metadata": {
        "id": "0pdNBoUGumkF"
      },
      "source": [
        "## 19. Delete a tuple."
      ]
    },
    {
      "cell_type": "code",
      "execution_count": null,
      "metadata": {
        "colab": {
          "background_save": true
        },
        "id": "hRwXBqkZwhUO"
      },
      "outputs": [],
      "source": [
        "t = (1,2,3)"
      ]
    },
    {
      "cell_type": "code",
      "execution_count": null,
      "metadata": {
        "colab": {
          "background_save": true
        },
        "id": "rprTph_6wljL"
      },
      "outputs": [],
      "source": [
        "del t      #by using del keyword"
      ]
    },
    {
      "cell_type": "code",
      "execution_count": null,
      "metadata": {
        "colab": {
          "background_save": true
        },
        "id": "qIjj39new7NT"
      },
      "outputs": [],
      "source": [
        "t"
      ]
    },
    {
      "cell_type": "markdown",
      "metadata": {
        "id": "RrPXLs_uxUpH"
      },
      "source": [
        "## 20. Slice a tuple."
      ]
    },
    {
      "cell_type": "code",
      "execution_count": null,
      "metadata": {
        "colab": {
          "background_save": true
        },
        "id": "k1N2fRJuxdNT"
      },
      "outputs": [],
      "source": [
        "t = (1,2,3,4,5,6,7,8,9)"
      ]
    },
    {
      "cell_type": "code",
      "execution_count": null,
      "metadata": {
        "colab": {
          "background_save": true
        },
        "id": "0xKWtwJ1yHMf"
      },
      "outputs": [],
      "source": [
        "t [2:6]           #slice the tuple"
      ]
    },
    {
      "cell_type": "markdown",
      "metadata": {
        "id": "fO0bxBtPzp8z"
      },
      "source": [
        "## 21. Find the maximum value in a tuple."
      ]
    },
    {
      "cell_type": "code",
      "execution_count": null,
      "metadata": {
        "colab": {
          "background_save": true
        },
        "id": "dSj__pcq1ySt"
      },
      "outputs": [],
      "source": [
        "t = (1,2,3,4,5)"
      ]
    },
    {
      "cell_type": "code",
      "execution_count": null,
      "metadata": {
        "colab": {
          "background_save": true
        },
        "id": "wH67u0IE13UJ"
      },
      "outputs": [],
      "source": [
        "max(t)"
      ]
    },
    {
      "cell_type": "markdown",
      "metadata": {
        "id": "phxf0dEf1_AM"
      },
      "source": [
        "## 22. Find the minimum value in a tuple."
      ]
    },
    {
      "cell_type": "code",
      "execution_count": null,
      "metadata": {
        "colab": {
          "background_save": true
        },
        "id": "7fbiLN2c2FWx"
      },
      "outputs": [],
      "source": [
        "t = (1,2,3,4,5)"
      ]
    },
    {
      "cell_type": "code",
      "execution_count": null,
      "metadata": {
        "colab": {
          "background_save": true
        },
        "id": "bQNbPRj32Lku"
      },
      "outputs": [],
      "source": [
        "min(t)"
      ]
    },
    {
      "cell_type": "markdown",
      "metadata": {
        "id": "SPyWv38Y2R4t"
      },
      "source": [
        "## 23. Convert a string to a tuple of characters."
      ]
    },
    {
      "cell_type": "code",
      "execution_count": null,
      "metadata": {
        "colab": {
          "background_save": true
        },
        "id": "DMXKbcjO2Zw2"
      },
      "outputs": [],
      "source": []
    },
    {
      "cell_type": "code",
      "execution_count": null,
      "metadata": {
        "colab": {
          "background_save": true
        },
        "id": "ZkpGrHyEZW4c"
      },
      "outputs": [],
      "source": [
        "# Step 1: Create a string\n",
        "s7= \"Hello, World!\"\n",
        "\n",
        "# Step 2: Convert the string to a tuple of characters\n",
        "tuple_of_characters = tuple(s7)\n",
        "\n",
        "# Step 3: Print the tuple of characters\n",
        "print(\"Tuple of characters:\", tuple_of_characters)"
      ]
    },
    {
      "cell_type": "markdown",
      "metadata": {
        "id": "xvGq8XP-4CIV"
      },
      "source": [
        "## 24. Convert a tuple of characters to a string."
      ]
    },
    {
      "cell_type": "code",
      "execution_count": null,
      "metadata": {
        "colab": {
          "background_save": true
        },
        "id": "wOmXXfK64I8d"
      },
      "outputs": [],
      "source": [
        "t = ('h','e','l','l','o')\n",
        "\n",
        "string = \"\".join(t)\n",
        "\n",
        "print(string)"
      ]
    },
    {
      "cell_type": "markdown",
      "metadata": {
        "id": "5jznxgsE4rws"
      },
      "source": [
        "## 25. Create a tuple from multiple data types."
      ]
    },
    {
      "cell_type": "code",
      "execution_count": null,
      "metadata": {
        "colab": {
          "background_save": true
        },
        "id": "ET74LpSl4479"
      },
      "outputs": [],
      "source": [
        "mixed_tuple = (1,'hello',34.5,True)\n",
        "\n"
      ]
    },
    {
      "cell_type": "markdown",
      "metadata": {
        "id": "N3fwcS-S5gS9"
      },
      "source": [
        "## 26. Check if two tuples are identical."
      ]
    },
    {
      "cell_type": "code",
      "execution_count": null,
      "metadata": {
        "colab": {
          "background_save": true
        },
        "id": "A0WwpRXg5naf"
      },
      "outputs": [],
      "source": [
        "t1 = (1,2,3)\n",
        "\n",
        "t2 = (1,2,3)\n",
        "\n",
        "t1 == t2           #identity check"
      ]
    },
    {
      "cell_type": "markdown",
      "metadata": {
        "id": "CQSUlslz6EVp"
      },
      "source": [
        "## 27. Sort the elements of a tuple."
      ]
    },
    {
      "cell_type": "code",
      "execution_count": null,
      "metadata": {
        "colab": {
          "background_save": true
        },
        "id": "nDw1A7FQ6J1D"
      },
      "outputs": [],
      "source": [
        "t = (1,5,7,8,3,4)"
      ]
    },
    {
      "cell_type": "code",
      "execution_count": null,
      "metadata": {
        "colab": {
          "background_save": true
        },
        "id": "XodA7t3Q6UmK"
      },
      "outputs": [],
      "source": [
        "sorted(t)"
      ]
    },
    {
      "cell_type": "markdown",
      "metadata": {
        "id": "Jg-e8Cj67eDc"
      },
      "source": [
        "## 28. Convert a tuple of integers to a tuple of strings."
      ]
    },
    {
      "cell_type": "markdown",
      "metadata": {
        "id": "Ka82NEb8UPb6"
      },
      "source": [
        "## 29. Convert a tuple of strings to a tuple of integers."
      ]
    },
    {
      "cell_type": "code",
      "execution_count": null,
      "metadata": {
        "colab": {
          "background_save": true
        },
        "id": "ZpiS5-HqiAOV"
      },
      "outputs": [],
      "source": [
        "# Step 1: Create a tuple of strings\n",
        "t1 = ('10', '20', '30', '40', '50')\n",
        "\n",
        "# Step 2: Convert the tuple of strings to a tuple of integers using a list comprehension\n",
        "\n",
        "t2 = t(int(item) for item in t1)\n",
        "\n",
        "# Step 3: Print the tuple of integers\n",
        "print(\"Tuple of integers:\", t1)"
      ]
    },
    {
      "cell_type": "markdown",
      "metadata": {
        "id": "ut-BtPWbUYm-"
      },
      "source": [
        "## 30. Merge two tuples."
      ]
    },
    {
      "cell_type": "code",
      "execution_count": null,
      "metadata": {
        "colab": {
          "background_save": true
        },
        "id": "z9b1IcEGaywZ"
      },
      "outputs": [],
      "source": [
        "# Step 1: Create two tuples\n",
        "tuple1 = (1, 2, 3)\n",
        "tuple2 = (4, 5, 6)\n",
        "\n",
        "# Step 2: Merge the two tuples using the '+' operator\n",
        "merged_tuple = tuple1 + tuple2\n",
        "\n",
        "# Step 3: Print the merged tuple\n",
        "print(\"Merged tuple:\", merged_tuple)"
      ]
    },
    {
      "cell_type": "markdown",
      "metadata": {
        "id": "2sQdk03FUmrH"
      },
      "source": [
        "## 31. Flatten a nested tuple."
      ]
    },
    {
      "cell_type": "code",
      "execution_count": null,
      "metadata": {
        "colab": {
          "background_save": true
        },
        "id": "QLFlrwN7bDev"
      },
      "outputs": [],
      "source": [
        "# Recursive function to flatten a nested tuple\n",
        "def flatten_tuple(nested_tuple):\n",
        "    flattened = []\n",
        "    for item in nested_tuple:\n",
        "        if isinstance(item, tuple):\n",
        "            flattened.extend(flatten_tuple(item))\n",
        "        else:\n",
        "            flattened.append(item)\n",
        "    return flattened\n",
        "\n",
        "nested_tuple = ((1, 2), (3, 4, 5), (6, (7, 8)))\n",
        "\n",
        "t = tuple\n",
        "flattened_tuple = (flatten_tuple(nested_tuple))\n",
        "\n",
        "# Step 3: Print the flattened tuple\n",
        "print(\"Flattened tuple:\", flattened_tuple)"
      ]
    },
    {
      "cell_type": "markdown",
      "metadata": {
        "id": "ZymORqCVZPHP"
      },
      "source": [
        "## 32. Create a tuple of the first 5 prime numbers."
      ]
    },
    {
      "cell_type": "code",
      "execution_count": null,
      "metadata": {
        "colab": {
          "background_save": true
        },
        "id": "VRDkDQA2bSii"
      },
      "outputs": [],
      "source": [
        "# Function to check if a number is prime\n",
        "def is_prime(num):\n",
        "    if num <= 1:\n",
        "        return False\n",
        "    for i in range(2, int(num ** 0.5) + 1):\n",
        "        if num % i == 0:\n",
        "            return False\n",
        "    return True\n",
        "\n",
        "# Generate the first 5 prime numbers\n",
        "prime_numbers_list = [num for num in range(2, 100) if is_prime(num)][:5]\n",
        "\n",
        "# Convert the list to a tuple\n",
        "\n",
        "t = tuple\n",
        "prime_numbers_tuple = tuple(prime_numbers_list)\n",
        "\n",
        "# Print the tuple of prime numbers\n",
        "print(\"Tuple of the first 5 prime numbers:\", prime_numbers_tuple)"
      ]
    },
    {
      "cell_type": "markdown",
      "metadata": {
        "id": "zZmVesVDgiFb"
      },
      "source": [
        "## 33. Check if a tuple is a palindrome."
      ]
    },
    {
      "cell_type": "code",
      "execution_count": null,
      "metadata": {
        "colab": {
          "background_save": true
        },
        "id": "zCH8mgZLbjah"
      },
      "outputs": [],
      "source": [
        "# Function to check if a tuple is a palindrome\n",
        "def is_palindrome(tup):\n",
        "    return tup == tup[::-1]\n",
        "\n",
        "# Create tuples for testing\n",
        "palindrome_tuple = (1, 2, 3, 2, 1)\n",
        "non_palindrome_tuple = (1, 2, 3, 4, 5)\n",
        "\n",
        "# Check if the tuples are palindromes\n",
        "is_palindrome1 = is_palindrome(palindrome_tuple)\n",
        "is_palindrome2 = is_palindrome(non_palindrome_tuple)\n",
        "\n",
        "# Print the results\n",
        "print(\"palindrome_tuple is a palindrome:\", is_palindrome1)\n",
        "print(\"non_palindrome_tuple is a palindrome:\", is_palindrome2)"
      ]
    },
    {
      "cell_type": "markdown",
      "metadata": {
        "id": "A3fGp6OEg3Ru"
      },
      "source": [
        "## 34. Create a tuple of squares of numbers from 1 to 5."
      ]
    },
    {
      "cell_type": "code",
      "execution_count": null,
      "metadata": {
        "colab": {
          "background_save": true
        },
        "id": "G_jbyO8fq87d"
      },
      "outputs": [],
      "source": []
    },
    {
      "cell_type": "code",
      "execution_count": null,
      "metadata": {
        "colab": {
          "background_save": true
        },
        "id": "eJ3WKRFmbz-H"
      },
      "outputs": [],
      "source": [
        "# Create a tuple of squares using a list comprehension\n",
        "squares_tuple = tuple(x ** 2 for x in range(1, 6))\n",
        "\n",
        "# Print the tuple of squares\n",
        "print(\"Tuple of squares:\", squares_tuple)"
      ]
    },
    {
      "cell_type": "markdown",
      "metadata": {
        "id": "8SJTkWVHk_GJ"
      },
      "source": [
        "## 35. Filter out all even numbers from a tuple."
      ]
    },
    {
      "cell_type": "code",
      "execution_count": null,
      "metadata": {
        "colab": {
          "background_save": true
        },
        "id": "YhQtBJV8b9kD"
      },
      "outputs": [],
      "source": [
        "# Create a tuple\n",
        "original_tuple = (1, 2, 3, 4, 5, 6, 7, 8, 9, 10)\n",
        "\n",
        "# Filter out even numbers using a list comprehension\n",
        "t = tuple\n",
        "filtered_tuple = t(num for num in original_tuple if num % 2 != 0)\n",
        "\n",
        "# Print the filtered tuple\n",
        "print(\"Filtered tuple:\", filtered_tuple)"
      ]
    },
    {
      "cell_type": "markdown",
      "metadata": {
        "id": "_ceDUVrFrr47"
      },
      "source": [
        "## 36. Multiply all elements in a tuple by 2."
      ]
    },
    {
      "cell_type": "code",
      "execution_count": null,
      "metadata": {
        "colab": {
          "background_save": true
        },
        "id": "JyJzb5eFr5HR"
      },
      "outputs": [],
      "source": [
        "def multiply_tuple(test_tup):\n",
        "  res = ()\n",
        "  for ele in test_tup:\n",
        "    res += (ele * 2,)\n",
        "  return(res)\n",
        "test_tup = (1,2,3,4,5,)\n",
        "print('original tuple:'+ str(test_tup))\n",
        "print('multiplied tuple:'+str(multiply_tuple(test_tup)))\n"
      ]
    },
    {
      "cell_type": "markdown",
      "metadata": {
        "id": "TG6TcasJuDek"
      },
      "source": [
        "## 37. Create a tuple of random numbers."
      ]
    },
    {
      "cell_type": "code",
      "execution_count": null,
      "metadata": {
        "colab": {
          "background_save": true
        },
        "id": "ZM_h9niFchcx"
      },
      "outputs": [],
      "source": [
        "import random\n",
        "\n",
        "# Create a tuple of random numbers using a list comprehension\n",
        "random_tuple = tuple(random.randint(1, 100) for _ in range(10))  # Generating 10 random numbers between 1 and 100\n",
        "\n",
        "# Print the tuple of random numbers\n",
        "print(\"Random tuple:\", random_tuple)"
      ]
    },
    {
      "cell_type": "markdown",
      "metadata": {
        "id": "vf9HzsjxvmkE"
      },
      "source": [
        "## 38. Check if a tuple is sorted."
      ]
    },
    {
      "cell_type": "code",
      "execution_count": null,
      "metadata": {
        "colab": {
          "background_save": true
        },
        "id": "U1qeXetYcuXI"
      },
      "outputs": [],
      "source": [
        "# Function to check if a tuple is sorted\n",
        "def is_sorted(tup):\n",
        "    for i in range(len(tup) - 1):\n",
        "        if tup[i] > tup[i + 1]:\n",
        "            return False\n",
        "    return True\n",
        "\n",
        "# Create tuples for testing\n",
        "sorted_tuple = (1, 2, 3, 4, 5)\n",
        "unsorted_tuple = (5, 3, 1, 4, 2)\n",
        "\n",
        "# Check if the tuples are sorted\n",
        "is_sorted1 = is_sorted(sorted_tuple)\n",
        "is_sorted2 = is_sorted(unsorted_tuple)\n",
        "\n",
        "# Print the results\n",
        "print(\"sorted_tuple is sorted:\", is_sorted1)\n",
        "print(\"unsorted_tuple is sorted:\", is_sorted2)"
      ]
    },
    {
      "cell_type": "markdown",
      "metadata": {
        "id": "sQd5KLaEv1_T"
      },
      "source": [
        "## 39. Rotate a tuple to the left by `n` positions."
      ]
    },
    {
      "cell_type": "code",
      "execution_count": null,
      "metadata": {
        "colab": {
          "background_save": true
        },
        "id": "uejMlLpj7ShG"
      },
      "outputs": [],
      "source": [
        "def rotate_tuple_left(tup, n):\n",
        "    n = n % len(tup)  # Ensure n is within the range of tuple length\n",
        "    rotated_tuple = tup[n:] + tup[:n]  # Rotate the tuple\n",
        "    return rotated_tuple\n",
        "\n",
        "# Example tuple\n",
        "my_tuple = (1, 2, 3, 4, 5)\n",
        "n_positions = 2\n",
        "result = rotate_tuple_left(my_tuple, n_positions)\n",
        "print(result)"
      ]
    },
    {
      "cell_type": "markdown",
      "metadata": {
        "id": "3O_8OEL0wCqz"
      },
      "source": [
        "## 40. Rotate a tuple to the right by `n` positions."
      ]
    },
    {
      "cell_type": "code",
      "execution_count": null,
      "metadata": {
        "colab": {
          "background_save": true
        },
        "id": "xJ3dNZMw7iVo"
      },
      "outputs": [],
      "source": [
        "def rotate_tuple_right(tup, n):\n",
        "    n = n % len(tup)  # Ensure n is within the range of tuple length\n",
        "    rotated_tuple = tup[-n:] + tup[:-n]  # Rotate the tuple\n",
        "    return rotated_tuple\n",
        "\n",
        "# Example tuple\n",
        "my_tuple = (1, 2, 3, 4, 5)\n",
        "n_positions = 2\n",
        "result = rotate_tuple_right(my_tuple, n_positions)\n",
        "print(result)"
      ]
    },
    {
      "cell_type": "markdown",
      "metadata": {
        "id": "KcGOV7s0wVeD"
      },
      "source": [
        "## 41. Create a tuple of the first 5 Fibonacci numbers."
      ]
    },
    {
      "cell_type": "code",
      "execution_count": null,
      "metadata": {
        "colab": {
          "background_save": true
        },
        "id": "21xm2R53waGy"
      },
      "outputs": [],
      "source": []
    },
    {
      "cell_type": "markdown",
      "metadata": {
        "id": "syJHvfrtxMdH"
      },
      "source": [
        "## 42. Create a tuple from user input."
      ]
    },
    {
      "cell_type": "markdown",
      "metadata": {
        "id": "zA0ahw3IJMM3"
      },
      "source": [
        "## 43. Swap two elements in a tuple."
      ]
    },
    {
      "cell_type": "code",
      "execution_count": null,
      "metadata": {
        "colab": {
          "background_save": true
        },
        "id": "rViNuHLqJm7a"
      },
      "outputs": [],
      "source": []
    },
    {
      "cell_type": "code",
      "execution_count": null,
      "metadata": {
        "colab": {
          "background_save": true
        },
        "id": "mjbBK80Q88Ea"
      },
      "outputs": [],
      "source": [
        "# Create a tuple\n",
        "my_tuple = (1, 2, 3, 4, 5)\n",
        "\n",
        "# Swap elements at indices 1 and 3\n",
        "index1 = 1\n",
        "index2 = 3\n",
        "t = tuple\n",
        "swapped_tuple = t(\n",
        "    my_tuple[i] if i not in (index1, index2) else\n",
        "    my_tuple[index2] if i == index1 else\n",
        "    my_tuple[index1]\n",
        "    for i in range(len(my_tuple))\n",
        ")\n",
        "\n",
        "# Print the swapped tuple\n",
        "print(\"Swapped tuple:\", swapped_tuple)"
      ]
    },
    {
      "cell_type": "markdown",
      "metadata": {
        "id": "UPtDXMJdKCLB"
      },
      "source": [
        "## 44. Reverse the elements of a tuple."
      ]
    },
    {
      "cell_type": "code",
      "execution_count": null,
      "metadata": {
        "colab": {
          "background_save": true
        },
        "id": "GLjlZw0T9tnx"
      },
      "outputs": [],
      "source": [
        "# Create a tuple\n",
        "my_tuple = (2,4,6,8)\n",
        "\n",
        "# Reverse the elements using slicing\n",
        "reversed_tuple = my_tuple[::-1]\n",
        "\n",
        "# Print the reversed tuple\n",
        "print(\"Reversed tuple:\", reversed_tuple)"
      ]
    },
    {
      "cell_type": "markdown",
      "metadata": {
        "id": "JpULDHwbKRsN"
      },
      "source": [
        "## 45. Create a tuple of the first `n` powers of 2."
      ]
    },
    {
      "cell_type": "code",
      "execution_count": null,
      "metadata": {
        "colab": {
          "background_save": true,
          "base_uri": "https://localhost:8080/",
          "height": 251
        },
        "id": "VF-6y5Es-BWy",
        "outputId": "c6d135c1-f97f-4215-de4e-011f0608076d"
      },
      "outputs": [
        {
          "ename": "SyntaxError",
          "evalue": "ignored",
          "output_type": "error",
          "traceback": [
            "\u001b[0;36m  File \u001b[0;32m\"<ipython-input-244-c7b99f4755a7>\"\u001b[0;36m, line \u001b[0;32m5\u001b[0m\n\u001b[0;31m    powers_of_2_tuple = tuple(2 ** i for i in range n)\u001b[0m\n\u001b[0m                                                    ^\u001b[0m\n\u001b[0;31mSyntaxError\u001b[0m\u001b[0;31m:\u001b[0m invalid syntax\n"
          ]
        }
      ],
      "source": [
        "\n",
        "n = 5\n",
        "\n",
        "# Create a tuple of the first n powers of 2 using a list comprehension\n",
        "powers_of_2_tuple = tuple(2 ** i for i in range(n))\n",
        "\n",
        "# Print the tuple of powers of 2\n",
        "print(\"Tuple of the first\", n, \"powers of 2:\", powers_of_2_tuple)"
      ]
    },
    {
      "cell_type": "markdown",
      "metadata": {
        "id": "o-9q6Z7uK48e"
      },
      "source": [
        "## 46. Find the longest string in a tuple of strings."
      ]
    },
    {
      "cell_type": "code",
      "execution_count": null,
      "metadata": {
        "colab": {
          "background_save": true
        },
        "id": "KJhQzMDG-Y0O"
      },
      "outputs": [],
      "source": [
        "# Create a tuple of strings\n",
        "string_tuple = (\"one\", \"two\", \"three\", \"four\", \"five\")\n",
        "\n",
        "# Find the longest string in the tuple\n",
        "longest_string = max(string_tuple, key=len)\n",
        "\n",
        "# Print the longest string\n",
        "print(\"Longest string:\", longest_string)"
      ]
    },
    {
      "cell_type": "markdown",
      "metadata": {
        "id": "WDarolc7LF-J"
      },
      "source": [
        "## 47. Find the shortest string in a tuple of strings."
      ]
    },
    {
      "cell_type": "code",
      "execution_count": null,
      "metadata": {
        "colab": {
          "background_save": true
        },
        "id": "LN5WYQML-zCd"
      },
      "outputs": [],
      "source": [
        "# Create a tuple of strings\n",
        "string_tuple = (\"one\", \"two\", \"three\", \"four\", \"five\")\n",
        "\n",
        "# Find the shortest string in the tuple\n",
        "shortest_string = min(string_tuple, key=len)\n",
        "\n",
        "# Print the shortest string\n",
        "print(\"Shortest string:\", shortest_string)"
      ]
    },
    {
      "cell_type": "markdown",
      "metadata": {
        "id": "3xNaED8eLlGL"
      },
      "source": [
        "## 48. Create a tuple of the first `n` triangular numbers."
      ]
    },
    {
      "cell_type": "markdown",
      "metadata": {
        "id": "zW3-E_DsLysT"
      },
      "source": [
        "## 49. Check if a tuple contains another tuple as a subsequence."
      ]
    },
    {
      "cell_type": "code",
      "execution_count": null,
      "metadata": {
        "colab": {
          "background_save": true
        },
        "id": "Q0sFzkTW_tgc"
      },
      "outputs": [],
      "source": [
        "# Function to check if a tuple contains another tuple as a subsequence\n",
        "def contains_subsequence(main_tuple, sub_tuple):\n",
        "    sub_length = len(sub_tuple)\n",
        "    for i in range(len(main_tuple) - sub_length + 1):\n",
        "        if main_tuple[i:i+sub_length] == sub_tuple:\n",
        "            return True\n",
        "    return False\n",
        "\n",
        "# Main tuple\n",
        "main_tuple = (1, 2, 3, 4, 5, 6, 7, 8, 9)\n",
        "\n",
        "# Subsequence tuple\n",
        "sub_tuple = (3, 4, 5)\n",
        "\n",
        "# Check if the main tuple contains the subsequence tuple\n",
        "contains_subseq = contains_subsequence(main_tuple, sub_tuple)\n",
        "\n",
        "# Print the result\n",
        "print(\"Main tuple contains subsequence tuple:\", contains_subseq)"
      ]
    },
    {
      "cell_type": "markdown",
      "metadata": {
        "id": "ItADs_KHMDtB"
      },
      "source": [
        "## 50. Create a tuple of alternating 1s and 0s of length `n`."
      ]
    },
    {
      "cell_type": "code",
      "execution_count": null,
      "metadata": {
        "colab": {
          "background_save": true
        },
        "id": "N3PQL1u4_-Oq"
      },
      "outputs": [],
      "source": [
        "# Define the value of n\n",
        "n = 10\n",
        "\n",
        "# Create a tuple of alternating 1s and 0s using a list comprehension\n",
        "alternating_tuple = tuple(i % 2 for i in range(n))\n",
        "\n",
        "# Print the tuple of alternating 1s and 0s\n",
        "print(\"Tuple of alternating 1s and 0s:\", alternating_tuple)"
      ]
    },
    {
      "cell_type": "markdown",
      "metadata": {
        "id": "boAwL29yassy"
      },
      "source": [
        "# **Set Based Practice Problem :**"
      ]
    },
    {
      "cell_type": "markdown",
      "metadata": {
        "id": "Rv7jm720a2cH"
      },
      "source": [
        "## 1. Create a set with integers from 1 to 5."
      ]
    },
    {
      "cell_type": "code",
      "execution_count": null,
      "metadata": {
        "colab": {
          "background_save": true
        },
        "id": "tY86qzLAbjBH"
      },
      "outputs": [],
      "source": [
        "s ="
      ]
    },
    {
      "cell_type": "code",
      "execution_count": null,
      "metadata": {
        "colab": {
          "background_save": true
        },
        "id": "D0D8B2zsbh6I"
      },
      "outputs": [],
      "source": [
        "type(s)"
      ]
    }
  ],
  "metadata": {
    "colab": {
      "provenance": []
    },
    "kernelspec": {
      "display_name": "Python 3",
      "name": "python3"
    },
    "language_info": {
      "name": "python"
    }
  },
  "nbformat": 4,
  "nbformat_minor": 0
}